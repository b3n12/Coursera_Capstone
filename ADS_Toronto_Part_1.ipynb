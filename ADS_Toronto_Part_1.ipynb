{
    "nbformat_minor": 1, 
    "cells": [
        {
            "source": "# Capstone Project\n## Segmenting and Clustering Neighborhoods in Toronto\n", 
            "cell_type": "markdown", 
            "metadata": {
                "collapsed": true
            }
        }, 
        {
            "source": "## 1. Create Notebook", 
            "cell_type": "markdown", 
            "metadata": {}
        }, 
        {
            "execution_count": 1, 
            "cell_type": "code", 
            "metadata": {}, 
            "outputs": [], 
            "source": "# Install the libraries, if not have done so\n# ! pip install html5lib\n\n# Libraries\nimport pandas as pd\nimport numpy as np\nimport requests\nfrom bs4 import BeautifulSoup"
        }, 
        {
            "source": "## 2. Scrape the Postal Codes of Canada data from Wikipedia\n### https://en.wikipedia.org/wiki/List_of_postal_codes_of_Canada:_M ", 
            "cell_type": "markdown", 
            "metadata": {}
        }, 
        {
            "execution_count": 2, 
            "cell_type": "code", 
            "metadata": {}, 
            "outputs": [], 
            "source": "src = requests.get('https://en.wikipedia.org/wiki/List_of_postal_codes_of_Canada:_M').text\nsoup = BeautifulSoup(src, 'html5lib')"
        }, 
        {
            "source": "- **Get the data table in Wikipedia with class 'wikitable sortable'**", 
            "cell_type": "markdown", 
            "metadata": {}
        }, 
        {
            "execution_count": 3, 
            "cell_type": "code", 
            "metadata": {}, 
            "outputs": [], 
            "source": "wikiTable = soup.find('table',{'class':'wikitable sortable'})\nwikiTable_rows = wikiTable.find_all('tr')"
        }, 
        {
            "source": "- **Extract from the table the PostalCode, Borough and Neighbourhood**", 
            "cell_type": "markdown", 
            "metadata": {}
        }, 
        {
            "execution_count": 4, 
            "cell_type": "code", 
            "metadata": {}, 
            "outputs": [], 
            "source": "dataExtracted = []\nfor row in wikiTable_rows:\n    dataExtracted.append([t.text.strip() for t in row.find_all('td')])"
        }, 
        {
            "source": "## 3. Create Dataframe for neighborhoods in Toronto", 
            "cell_type": "markdown", 
            "metadata": {}
        }, 
        {
            "execution_count": 5, 
            "cell_type": "code", 
            "metadata": {}, 
            "outputs": [
                {
                    "output_type": "stream", 
                    "name": "stdout", 
                    "text": "<class 'pandas.core.frame.DataFrame'>\nInt64Index: 288 entries, 1 to 288\nData columns (total 3 columns):\nPostalCode       288 non-null object\nBorough          288 non-null object\nNeighbourhood    288 non-null object\ndtypes: object(3)\nmemory usage: 9.0+ KB\n"
                }
            ], 
            "source": "dfNeigh = pd.DataFrame(dataExtracted, columns=['PostalCode', 'Borough', 'Neighbourhood'])\n# Remove null PostalCode\ndfNeigh = dfNeigh[~dfNeigh['PostalCode'].isnull()]\ndfNeigh.info()"
        }, 
        {
            "source": "- **The dataframe will consist of three columns: PostalCode, Borough, and Neighborhood**", 
            "cell_type": "markdown", 
            "metadata": {}
        }, 
        {
            "execution_count": 6, 
            "cell_type": "code", 
            "metadata": {}, 
            "outputs": [
                {
                    "execution_count": 6, 
                    "metadata": {}, 
                    "data": {
                        "text/html": "<div>\n<style scoped>\n    .dataframe tbody tr th:only-of-type {\n        vertical-align: middle;\n    }\n\n    .dataframe tbody tr th {\n        vertical-align: top;\n    }\n\n    .dataframe thead th {\n        text-align: right;\n    }\n</style>\n<table border=\"1\" class=\"dataframe\">\n  <thead>\n    <tr style=\"text-align: right;\">\n      <th></th>\n      <th>PostalCode</th>\n      <th>Borough</th>\n      <th>Neighbourhood</th>\n    </tr>\n  </thead>\n  <tbody>\n    <tr>\n      <th>1</th>\n      <td>M1A</td>\n      <td>Not assigned</td>\n      <td>Not assigned</td>\n    </tr>\n    <tr>\n      <th>2</th>\n      <td>M2A</td>\n      <td>Not assigned</td>\n      <td>Not assigned</td>\n    </tr>\n    <tr>\n      <th>3</th>\n      <td>M3A</td>\n      <td>North York</td>\n      <td>Parkwoods</td>\n    </tr>\n    <tr>\n      <th>4</th>\n      <td>M4A</td>\n      <td>North York</td>\n      <td>Victoria Village</td>\n    </tr>\n    <tr>\n      <th>5</th>\n      <td>M5A</td>\n      <td>Downtown Toronto</td>\n      <td>Harbourfront</td>\n    </tr>\n    <tr>\n      <th>6</th>\n      <td>M5A</td>\n      <td>Downtown Toronto</td>\n      <td>Regent Park</td>\n    </tr>\n    <tr>\n      <th>7</th>\n      <td>M6A</td>\n      <td>North York</td>\n      <td>Lawrence Heights</td>\n    </tr>\n    <tr>\n      <th>8</th>\n      <td>M6A</td>\n      <td>North York</td>\n      <td>Lawrence Manor</td>\n    </tr>\n    <tr>\n      <th>9</th>\n      <td>M7A</td>\n      <td>Queen's Park</td>\n      <td>Not assigned</td>\n    </tr>\n    <tr>\n      <th>10</th>\n      <td>M8A</td>\n      <td>Not assigned</td>\n      <td>Not assigned</td>\n    </tr>\n  </tbody>\n</table>\n</div>", 
                        "text/plain": "   PostalCode           Borough     Neighbourhood\n1         M1A      Not assigned      Not assigned\n2         M2A      Not assigned      Not assigned\n3         M3A        North York         Parkwoods\n4         M4A        North York  Victoria Village\n5         M5A  Downtown Toronto      Harbourfront\n6         M5A  Downtown Toronto       Regent Park\n7         M6A        North York  Lawrence Heights\n8         M6A        North York    Lawrence Manor\n9         M7A      Queen's Park      Not assigned\n10        M8A      Not assigned      Not assigned"
                    }, 
                    "output_type": "execute_result"
                }
            ], 
            "source": "dfNeigh.head(10)"
        }, 
        {
            "source": "- **Only process the cells that have an assigned borough. Ignore cells with a borough that is Not assigned.**", 
            "cell_type": "markdown", 
            "metadata": {}
        }, 
        {
            "execution_count": 7, 
            "cell_type": "code", 
            "metadata": {}, 
            "outputs": [
                {
                    "output_type": "stream", 
                    "name": "stdout", 
                    "text": "<class 'pandas.core.frame.DataFrame'>\nRangeIndex: 211 entries, 0 to 210\nData columns (total 4 columns):\nindex            211 non-null int64\nPostalCode       211 non-null object\nBorough          211 non-null object\nNeighbourhood    211 non-null object\ndtypes: int64(1), object(3)\nmemory usage: 6.7+ KB\n"
                }
            ], 
            "source": "dfNeigh.drop(dfNeigh[dfNeigh['Borough']==\"Not assigned\"].index,axis=0, inplace=True)\ndfAssigned = dfNeigh.reset_index()\ndfAssigned.info()"
        }, 
        {
            "execution_count": 8, 
            "cell_type": "code", 
            "metadata": {}, 
            "outputs": [
                {
                    "execution_count": 8, 
                    "metadata": {}, 
                    "data": {
                        "text/html": "<div>\n<style scoped>\n    .dataframe tbody tr th:only-of-type {\n        vertical-align: middle;\n    }\n\n    .dataframe tbody tr th {\n        vertical-align: top;\n    }\n\n    .dataframe thead th {\n        text-align: right;\n    }\n</style>\n<table border=\"1\" class=\"dataframe\">\n  <thead>\n    <tr style=\"text-align: right;\">\n      <th></th>\n      <th>index</th>\n      <th>PostalCode</th>\n      <th>Borough</th>\n      <th>Neighbourhood</th>\n    </tr>\n  </thead>\n  <tbody>\n    <tr>\n      <th>0</th>\n      <td>3</td>\n      <td>M3A</td>\n      <td>North York</td>\n      <td>Parkwoods</td>\n    </tr>\n    <tr>\n      <th>1</th>\n      <td>4</td>\n      <td>M4A</td>\n      <td>North York</td>\n      <td>Victoria Village</td>\n    </tr>\n    <tr>\n      <th>2</th>\n      <td>5</td>\n      <td>M5A</td>\n      <td>Downtown Toronto</td>\n      <td>Harbourfront</td>\n    </tr>\n    <tr>\n      <th>3</th>\n      <td>6</td>\n      <td>M5A</td>\n      <td>Downtown Toronto</td>\n      <td>Regent Park</td>\n    </tr>\n    <tr>\n      <th>4</th>\n      <td>7</td>\n      <td>M6A</td>\n      <td>North York</td>\n      <td>Lawrence Heights</td>\n    </tr>\n    <tr>\n      <th>5</th>\n      <td>8</td>\n      <td>M6A</td>\n      <td>North York</td>\n      <td>Lawrence Manor</td>\n    </tr>\n    <tr>\n      <th>6</th>\n      <td>9</td>\n      <td>M7A</td>\n      <td>Queen's Park</td>\n      <td>Not assigned</td>\n    </tr>\n    <tr>\n      <th>7</th>\n      <td>11</td>\n      <td>M9A</td>\n      <td>Etobicoke</td>\n      <td>Islington Avenue</td>\n    </tr>\n    <tr>\n      <th>8</th>\n      <td>12</td>\n      <td>M1B</td>\n      <td>Scarborough</td>\n      <td>Rouge</td>\n    </tr>\n    <tr>\n      <th>9</th>\n      <td>13</td>\n      <td>M1B</td>\n      <td>Scarborough</td>\n      <td>Malvern</td>\n    </tr>\n  </tbody>\n</table>\n</div>", 
                        "text/plain": "   index PostalCode           Borough     Neighbourhood\n0      3        M3A        North York         Parkwoods\n1      4        M4A        North York  Victoria Village\n2      5        M5A  Downtown Toronto      Harbourfront\n3      6        M5A  Downtown Toronto       Regent Park\n4      7        M6A        North York  Lawrence Heights\n5      8        M6A        North York    Lawrence Manor\n6      9        M7A      Queen's Park      Not assigned\n7     11        M9A         Etobicoke  Islington Avenue\n8     12        M1B       Scarborough             Rouge\n9     13        M1B       Scarborough           Malvern"
                    }, 
                    "output_type": "execute_result"
                }
            ], 
            "source": "dfAssigned.head(10)"
        }, 
        {
            "source": "- **More than one neighborhood can exist in one postal code area. For example, in the table on the Wikipedia page, you will notice that M5A is listed twice and has two neighborhoods: Harbourfront and Regent Park. These two rows will be combined into one row with the neighborhoods separated with a comma as shown in row 11 in the above table.**", 
            "cell_type": "markdown", 
            "metadata": {}
        }, 
        {
            "execution_count": 9, 
            "cell_type": "code", 
            "metadata": {}, 
            "outputs": [
                {
                    "output_type": "stream", 
                    "name": "stdout", 
                    "text": "<class 'pandas.core.frame.DataFrame'>\nIndex: 103 entries, M1B to M9W\nData columns (total 2 columns):\nBorough          103 non-null object\nNeighbourhood    103 non-null object\ndtypes: object(2)\nmemory usage: 2.4+ KB\n"
                }
            ], 
            "source": "dfCombined = dfAssigned.groupby('PostalCode').agg(lambda x: ','.join(x))\ndfCombined.info()"
        }, 
        {
            "execution_count": 10, 
            "cell_type": "code", 
            "metadata": {}, 
            "outputs": [
                {
                    "execution_count": 10, 
                    "metadata": {}, 
                    "data": {
                        "text/html": "<div>\n<style scoped>\n    .dataframe tbody tr th:only-of-type {\n        vertical-align: middle;\n    }\n\n    .dataframe tbody tr th {\n        vertical-align: top;\n    }\n\n    .dataframe thead th {\n        text-align: right;\n    }\n</style>\n<table border=\"1\" class=\"dataframe\">\n  <thead>\n    <tr style=\"text-align: right;\">\n      <th></th>\n      <th>Borough</th>\n      <th>Neighbourhood</th>\n    </tr>\n    <tr>\n      <th>PostalCode</th>\n      <th></th>\n      <th></th>\n    </tr>\n  </thead>\n  <tbody>\n    <tr>\n      <th>M1B</th>\n      <td>Scarborough,Scarborough</td>\n      <td>Rouge,Malvern</td>\n    </tr>\n    <tr>\n      <th>M1C</th>\n      <td>Scarborough,Scarborough,Scarborough</td>\n      <td>Highland Creek,Rouge Hill,Port Union</td>\n    </tr>\n    <tr>\n      <th>M1E</th>\n      <td>Scarborough,Scarborough,Scarborough</td>\n      <td>Guildwood,Morningside,West Hill</td>\n    </tr>\n    <tr>\n      <th>M1G</th>\n      <td>Scarborough</td>\n      <td>Woburn</td>\n    </tr>\n    <tr>\n      <th>M1H</th>\n      <td>Scarborough</td>\n      <td>Cedarbrae</td>\n    </tr>\n    <tr>\n      <th>M1J</th>\n      <td>Scarborough</td>\n      <td>Scarborough Village</td>\n    </tr>\n    <tr>\n      <th>M1K</th>\n      <td>Scarborough,Scarborough,Scarborough</td>\n      <td>East Birchmount Park,Ionview,Kennedy Park</td>\n    </tr>\n    <tr>\n      <th>M1L</th>\n      <td>Scarborough,Scarborough,Scarborough</td>\n      <td>Clairlea,Golden Mile,Oakridge</td>\n    </tr>\n    <tr>\n      <th>M1M</th>\n      <td>Scarborough,Scarborough,Scarborough</td>\n      <td>Cliffcrest,Cliffside,Scarborough Village West</td>\n    </tr>\n    <tr>\n      <th>M1N</th>\n      <td>Scarborough,Scarborough</td>\n      <td>Birch Cliff,Cliffside West</td>\n    </tr>\n  </tbody>\n</table>\n</div>", 
                        "text/plain": "                                        Borough  \\\nPostalCode                                        \nM1B                     Scarborough,Scarborough   \nM1C         Scarborough,Scarborough,Scarborough   \nM1E         Scarborough,Scarborough,Scarborough   \nM1G                                 Scarborough   \nM1H                                 Scarborough   \nM1J                                 Scarborough   \nM1K         Scarborough,Scarborough,Scarborough   \nM1L         Scarborough,Scarborough,Scarborough   \nM1M         Scarborough,Scarborough,Scarborough   \nM1N                     Scarborough,Scarborough   \n\n                                            Neighbourhood  \nPostalCode                                                 \nM1B                                         Rouge,Malvern  \nM1C                  Highland Creek,Rouge Hill,Port Union  \nM1E                       Guildwood,Morningside,West Hill  \nM1G                                                Woburn  \nM1H                                             Cedarbrae  \nM1J                                   Scarborough Village  \nM1K             East Birchmount Park,Ionview,Kennedy Park  \nM1L                         Clairlea,Golden Mile,Oakridge  \nM1M         Cliffcrest,Cliffside,Scarborough Village West  \nM1N                            Birch Cliff,Cliffside West  "
                    }, 
                    "output_type": "execute_result"
                }
            ], 
            "source": "dfCombined.head(10)"
        }, 
        {
            "source": "- **If a cell has a borough but a Not assigned neighborhood, then the neighborhood will be the same as the borough. So for the 9th cell in the table on the Wikipedia page, the value of the Borough and the Neighborhood columns will be Queen's Park.**", 
            "cell_type": "markdown", 
            "metadata": {}
        }, 
        {
            "execution_count": 11, 
            "cell_type": "code", 
            "metadata": {}, 
            "outputs": [
                {
                    "execution_count": 11, 
                    "metadata": {}, 
                    "data": {
                        "text/html": "<div>\n<style scoped>\n    .dataframe tbody tr th:only-of-type {\n        vertical-align: middle;\n    }\n\n    .dataframe tbody tr th {\n        vertical-align: top;\n    }\n\n    .dataframe thead th {\n        text-align: right;\n    }\n</style>\n<table border=\"1\" class=\"dataframe\">\n  <thead>\n    <tr style=\"text-align: right;\">\n      <th></th>\n      <th>Borough</th>\n      <th>Neighbourhood</th>\n    </tr>\n    <tr>\n      <th>PostalCode</th>\n      <th></th>\n      <th></th>\n    </tr>\n  </thead>\n  <tbody>\n    <tr>\n      <th>M1B</th>\n      <td>Scarborough,Scarborough</td>\n      <td>Rouge,Malvern</td>\n    </tr>\n    <tr>\n      <th>M1C</th>\n      <td>Scarborough,Scarborough,Scarborough</td>\n      <td>Highland Creek,Rouge Hill,Port Union</td>\n    </tr>\n    <tr>\n      <th>M1E</th>\n      <td>Scarborough,Scarborough,Scarborough</td>\n      <td>Guildwood,Morningside,West Hill</td>\n    </tr>\n    <tr>\n      <th>M1G</th>\n      <td>Scarborough</td>\n      <td>Woburn</td>\n    </tr>\n    <tr>\n      <th>M1H</th>\n      <td>Scarborough</td>\n      <td>Cedarbrae</td>\n    </tr>\n    <tr>\n      <th>M1J</th>\n      <td>Scarborough</td>\n      <td>Scarborough Village</td>\n    </tr>\n    <tr>\n      <th>M1K</th>\n      <td>Scarborough,Scarborough,Scarborough</td>\n      <td>East Birchmount Park,Ionview,Kennedy Park</td>\n    </tr>\n    <tr>\n      <th>M1L</th>\n      <td>Scarborough,Scarborough,Scarborough</td>\n      <td>Clairlea,Golden Mile,Oakridge</td>\n    </tr>\n    <tr>\n      <th>M1M</th>\n      <td>Scarborough,Scarborough,Scarborough</td>\n      <td>Cliffcrest,Cliffside,Scarborough Village West</td>\n    </tr>\n    <tr>\n      <th>M1N</th>\n      <td>Scarborough,Scarborough</td>\n      <td>Birch Cliff,Cliffside West</td>\n    </tr>\n  </tbody>\n</table>\n</div>", 
                        "text/plain": "                                        Borough  \\\nPostalCode                                        \nM1B                     Scarborough,Scarborough   \nM1C         Scarborough,Scarborough,Scarborough   \nM1E         Scarborough,Scarborough,Scarborough   \nM1G                                 Scarborough   \nM1H                                 Scarborough   \nM1J                                 Scarborough   \nM1K         Scarborough,Scarborough,Scarborough   \nM1L         Scarborough,Scarborough,Scarborough   \nM1M         Scarborough,Scarborough,Scarborough   \nM1N                     Scarborough,Scarborough   \n\n                                            Neighbourhood  \nPostalCode                                                 \nM1B                                         Rouge,Malvern  \nM1C                  Highland Creek,Rouge Hill,Port Union  \nM1E                       Guildwood,Morningside,West Hill  \nM1G                                                Woburn  \nM1H                                             Cedarbrae  \nM1J                                   Scarborough Village  \nM1K             East Birchmount Park,Ionview,Kennedy Park  \nM1L                         Clairlea,Golden Mile,Oakridge  \nM1M         Cliffcrest,Cliffside,Scarborough Village West  \nM1N                            Birch Cliff,Cliffside West  "
                    }, 
                    "output_type": "execute_result"
                }
            ], 
            "source": "# Combined dataframe for the not assigned neighborhood and the not assigned borough\ndfCombined.loc[dfCombined['Neighbourhood']==\"Not assigned\",'Neighbourhood'] = dfCombined.loc[dfCombined['Neighbourhood']==\"Not assigned\",'Borough']\ndfCombined.head(10)"
        }, 
        {
            "execution_count": 12, 
            "cell_type": "code", 
            "metadata": {}, 
            "outputs": [
                {
                    "output_type": "stream", 
                    "name": "stdout", 
                    "text": "<class 'pandas.core.frame.DataFrame'>\nRangeIndex: 103 entries, 0 to 102\nData columns (total 3 columns):\nPostalCode       103 non-null object\nBorough          103 non-null object\nNeighbourhood    103 non-null object\ndtypes: object(3)\nmemory usage: 2.5+ KB\n"
                }
            ], 
            "source": "# Reset the index\ndfFinal = dfCombined.reset_index()\n# Remove the duplicate boroughs\ndfFinal['Borough']= dfFinal['Borough'].str.replace('nan|[{}\\s]','').str.split(',').apply(set).str.join(',').str.strip(',').str.replace(\",{2,}\",\",\")\ndfFinal.info()"
        }, 
        {
            "execution_count": 13, 
            "cell_type": "code", 
            "metadata": {}, 
            "outputs": [
                {
                    "execution_count": 13, 
                    "metadata": {}, 
                    "data": {
                        "text/html": "<div>\n<style scoped>\n    .dataframe tbody tr th:only-of-type {\n        vertical-align: middle;\n    }\n\n    .dataframe tbody tr th {\n        vertical-align: top;\n    }\n\n    .dataframe thead th {\n        text-align: right;\n    }\n</style>\n<table border=\"1\" class=\"dataframe\">\n  <thead>\n    <tr style=\"text-align: right;\">\n      <th></th>\n      <th>PostalCode</th>\n      <th>Borough</th>\n      <th>Neighbourhood</th>\n    </tr>\n  </thead>\n  <tbody>\n    <tr>\n      <th>0</th>\n      <td>M1B</td>\n      <td>Scarborough</td>\n      <td>Rouge,Malvern</td>\n    </tr>\n    <tr>\n      <th>1</th>\n      <td>M1C</td>\n      <td>Scarborough</td>\n      <td>Highland Creek,Rouge Hill,Port Union</td>\n    </tr>\n    <tr>\n      <th>2</th>\n      <td>M1E</td>\n      <td>Scarborough</td>\n      <td>Guildwood,Morningside,West Hill</td>\n    </tr>\n    <tr>\n      <th>3</th>\n      <td>M1G</td>\n      <td>Scarborough</td>\n      <td>Woburn</td>\n    </tr>\n    <tr>\n      <th>4</th>\n      <td>M1H</td>\n      <td>Scarborough</td>\n      <td>Cedarbrae</td>\n    </tr>\n    <tr>\n      <th>5</th>\n      <td>M1J</td>\n      <td>Scarborough</td>\n      <td>Scarborough Village</td>\n    </tr>\n    <tr>\n      <th>6</th>\n      <td>M1K</td>\n      <td>Scarborough</td>\n      <td>East Birchmount Park,Ionview,Kennedy Park</td>\n    </tr>\n    <tr>\n      <th>7</th>\n      <td>M1L</td>\n      <td>Scarborough</td>\n      <td>Clairlea,Golden Mile,Oakridge</td>\n    </tr>\n    <tr>\n      <th>8</th>\n      <td>M1M</td>\n      <td>Scarborough</td>\n      <td>Cliffcrest,Cliffside,Scarborough Village West</td>\n    </tr>\n    <tr>\n      <th>9</th>\n      <td>M1N</td>\n      <td>Scarborough</td>\n      <td>Birch Cliff,Cliffside West</td>\n    </tr>\n  </tbody>\n</table>\n</div>", 
                        "text/plain": "  PostalCode      Borough                                  Neighbourhood\n0        M1B  Scarborough                                  Rouge,Malvern\n1        M1C  Scarborough           Highland Creek,Rouge Hill,Port Union\n2        M1E  Scarborough                Guildwood,Morningside,West Hill\n3        M1G  Scarborough                                         Woburn\n4        M1H  Scarborough                                      Cedarbrae\n5        M1J  Scarborough                            Scarborough Village\n6        M1K  Scarborough      East Birchmount Park,Ionview,Kennedy Park\n7        M1L  Scarborough                  Clairlea,Golden Mile,Oakridge\n8        M1M  Scarborough  Cliffcrest,Cliffside,Scarborough Village West\n9        M1N  Scarborough                     Birch Cliff,Cliffside West"
                    }, 
                    "output_type": "execute_result"
                }
            ], 
            "source": "dfFinal.head(10)"
        }, 
        {
            "source": "- **In the last cell of your notebook, use the .shape method to print the number of rows of your dataframe.**", 
            "cell_type": "markdown", 
            "metadata": {}
        }, 
        {
            "execution_count": 14, 
            "cell_type": "code", 
            "metadata": {}, 
            "outputs": [
                {
                    "execution_count": 14, 
                    "metadata": {}, 
                    "data": {
                        "text/html": "<div>\n<style scoped>\n    .dataframe tbody tr th:only-of-type {\n        vertical-align: middle;\n    }\n\n    .dataframe tbody tr th {\n        vertical-align: top;\n    }\n\n    .dataframe thead th {\n        text-align: right;\n    }\n</style>\n<table border=\"1\" class=\"dataframe\">\n  <thead>\n    <tr style=\"text-align: right;\">\n      <th></th>\n      <th>PostalCode</th>\n      <th>Borough</th>\n      <th>Neighbourhood</th>\n    </tr>\n  </thead>\n  <tbody>\n    <tr>\n      <th>0</th>\n      <td>M1B</td>\n      <td>Scarborough</td>\n      <td>Rouge,Malvern</td>\n    </tr>\n    <tr>\n      <th>1</th>\n      <td>M1C</td>\n      <td>Scarborough</td>\n      <td>Highland Creek,Rouge Hill,Port Union</td>\n    </tr>\n    <tr>\n      <th>2</th>\n      <td>M1E</td>\n      <td>Scarborough</td>\n      <td>Guildwood,Morningside,West Hill</td>\n    </tr>\n    <tr>\n      <th>3</th>\n      <td>M1G</td>\n      <td>Scarborough</td>\n      <td>Woburn</td>\n    </tr>\n    <tr>\n      <th>4</th>\n      <td>M1H</td>\n      <td>Scarborough</td>\n      <td>Cedarbrae</td>\n    </tr>\n    <tr>\n      <th>5</th>\n      <td>M1J</td>\n      <td>Scarborough</td>\n      <td>Scarborough Village</td>\n    </tr>\n    <tr>\n      <th>6</th>\n      <td>M1K</td>\n      <td>Scarborough</td>\n      <td>East Birchmount Park,Ionview,Kennedy Park</td>\n    </tr>\n    <tr>\n      <th>7</th>\n      <td>M1L</td>\n      <td>Scarborough</td>\n      <td>Clairlea,Golden Mile,Oakridge</td>\n    </tr>\n    <tr>\n      <th>8</th>\n      <td>M1M</td>\n      <td>Scarborough</td>\n      <td>Cliffcrest,Cliffside,Scarborough Village West</td>\n    </tr>\n    <tr>\n      <th>9</th>\n      <td>M1N</td>\n      <td>Scarborough</td>\n      <td>Birch Cliff,Cliffside West</td>\n    </tr>\n    <tr>\n      <th>10</th>\n      <td>M1P</td>\n      <td>Scarborough</td>\n      <td>Dorset Park,Scarborough Town Centre,Wexford He...</td>\n    </tr>\n    <tr>\n      <th>11</th>\n      <td>M1R</td>\n      <td>Scarborough</td>\n      <td>Maryvale,Wexford</td>\n    </tr>\n    <tr>\n      <th>12</th>\n      <td>M1S</td>\n      <td>Scarborough</td>\n      <td>Agincourt</td>\n    </tr>\n    <tr>\n      <th>13</th>\n      <td>M1T</td>\n      <td>Scarborough</td>\n      <td>Clarks Corners,Sullivan,Tam O'Shanter</td>\n    </tr>\n    <tr>\n      <th>14</th>\n      <td>M1V</td>\n      <td>Scarborough</td>\n      <td>Agincourt North,L'Amoreaux East,Milliken,Steel...</td>\n    </tr>\n    <tr>\n      <th>15</th>\n      <td>M1W</td>\n      <td>Scarborough</td>\n      <td>L'Amoreaux West</td>\n    </tr>\n    <tr>\n      <th>16</th>\n      <td>M1X</td>\n      <td>Scarborough</td>\n      <td>Upper Rouge</td>\n    </tr>\n    <tr>\n      <th>17</th>\n      <td>M2H</td>\n      <td>NorthYork</td>\n      <td>Hillcrest Village</td>\n    </tr>\n    <tr>\n      <th>18</th>\n      <td>M2J</td>\n      <td>NorthYork</td>\n      <td>Fairview,Henry Farm,Oriole</td>\n    </tr>\n    <tr>\n      <th>19</th>\n      <td>M2K</td>\n      <td>NorthYork</td>\n      <td>Bayview Village</td>\n    </tr>\n    <tr>\n      <th>20</th>\n      <td>M2L</td>\n      <td>NorthYork</td>\n      <td>Silver Hills,York Mills</td>\n    </tr>\n    <tr>\n      <th>21</th>\n      <td>M2M</td>\n      <td>NorthYork</td>\n      <td>Newtonbrook,Willowdale</td>\n    </tr>\n    <tr>\n      <th>22</th>\n      <td>M2N</td>\n      <td>NorthYork</td>\n      <td>Willowdale South</td>\n    </tr>\n    <tr>\n      <th>23</th>\n      <td>M2P</td>\n      <td>NorthYork</td>\n      <td>York Mills West</td>\n    </tr>\n    <tr>\n      <th>24</th>\n      <td>M2R</td>\n      <td>NorthYork</td>\n      <td>Willowdale West</td>\n    </tr>\n    <tr>\n      <th>25</th>\n      <td>M3A</td>\n      <td>NorthYork</td>\n      <td>Parkwoods</td>\n    </tr>\n    <tr>\n      <th>26</th>\n      <td>M3B</td>\n      <td>NorthYork</td>\n      <td>Don Mills North</td>\n    </tr>\n    <tr>\n      <th>27</th>\n      <td>M3C</td>\n      <td>NorthYork</td>\n      <td>Flemingdon Park,Don Mills South</td>\n    </tr>\n    <tr>\n      <th>28</th>\n      <td>M3H</td>\n      <td>NorthYork</td>\n      <td>Bathurst Manor,Downsview North,Wilson Heights</td>\n    </tr>\n    <tr>\n      <th>29</th>\n      <td>M3J</td>\n      <td>NorthYork</td>\n      <td>Northwood Park,York University</td>\n    </tr>\n    <tr>\n      <th>...</th>\n      <td>...</td>\n      <td>...</td>\n      <td>...</td>\n    </tr>\n    <tr>\n      <th>73</th>\n      <td>M6C</td>\n      <td>York</td>\n      <td>Humewood-Cedarvale</td>\n    </tr>\n    <tr>\n      <th>74</th>\n      <td>M6E</td>\n      <td>York</td>\n      <td>Caledonia-Fairbanks</td>\n    </tr>\n    <tr>\n      <th>75</th>\n      <td>M6G</td>\n      <td>DowntownToronto</td>\n      <td>Christie</td>\n    </tr>\n    <tr>\n      <th>76</th>\n      <td>M6H</td>\n      <td>WestToronto</td>\n      <td>Dovercourt Village,Dufferin</td>\n    </tr>\n    <tr>\n      <th>77</th>\n      <td>M6J</td>\n      <td>WestToronto</td>\n      <td>Little Portugal,Trinity</td>\n    </tr>\n    <tr>\n      <th>78</th>\n      <td>M6K</td>\n      <td>WestToronto</td>\n      <td>Brockton,Exhibition Place,Parkdale Village</td>\n    </tr>\n    <tr>\n      <th>79</th>\n      <td>M6L</td>\n      <td>NorthYork</td>\n      <td>Downsview,North Park,Upwood Park</td>\n    </tr>\n    <tr>\n      <th>80</th>\n      <td>M6M</td>\n      <td>York</td>\n      <td>Del Ray,Keelesdale,Mount Dennis,Silverthorn</td>\n    </tr>\n    <tr>\n      <th>81</th>\n      <td>M6N</td>\n      <td>York</td>\n      <td>The Junction North,Runnymede</td>\n    </tr>\n    <tr>\n      <th>82</th>\n      <td>M6P</td>\n      <td>WestToronto</td>\n      <td>High Park,The Junction South</td>\n    </tr>\n    <tr>\n      <th>83</th>\n      <td>M6R</td>\n      <td>WestToronto</td>\n      <td>Parkdale,Roncesvalles</td>\n    </tr>\n    <tr>\n      <th>84</th>\n      <td>M6S</td>\n      <td>WestToronto</td>\n      <td>Runnymede,Swansea</td>\n    </tr>\n    <tr>\n      <th>85</th>\n      <td>M7A</td>\n      <td>Queen'sPark</td>\n      <td>Queen's Park</td>\n    </tr>\n    <tr>\n      <th>86</th>\n      <td>M7R</td>\n      <td>Mississauga</td>\n      <td>Canada Post Gateway Processing Centre</td>\n    </tr>\n    <tr>\n      <th>87</th>\n      <td>M7Y</td>\n      <td>EastToronto</td>\n      <td>Business Reply Mail Processing Centre 969 Eastern</td>\n    </tr>\n    <tr>\n      <th>88</th>\n      <td>M8V</td>\n      <td>Etobicoke</td>\n      <td>Humber Bay Shores,Mimico South,New Toronto</td>\n    </tr>\n    <tr>\n      <th>89</th>\n      <td>M8W</td>\n      <td>Etobicoke</td>\n      <td>Alderwood,Long Branch</td>\n    </tr>\n    <tr>\n      <th>90</th>\n      <td>M8X</td>\n      <td>Etobicoke</td>\n      <td>The Kingsway,Montgomery Road,Old Mill North</td>\n    </tr>\n    <tr>\n      <th>91</th>\n      <td>M8Y</td>\n      <td>Etobicoke</td>\n      <td>Humber Bay,King's Mill Park,Kingsway Park Sout...</td>\n    </tr>\n    <tr>\n      <th>92</th>\n      <td>M8Z</td>\n      <td>Etobicoke</td>\n      <td>Kingsway Park South West,Mimico NW,The Queensw...</td>\n    </tr>\n    <tr>\n      <th>93</th>\n      <td>M9A</td>\n      <td>Etobicoke</td>\n      <td>Islington Avenue</td>\n    </tr>\n    <tr>\n      <th>94</th>\n      <td>M9B</td>\n      <td>Etobicoke</td>\n      <td>Cloverdale,Islington,Martin Grove,Princess Gar...</td>\n    </tr>\n    <tr>\n      <th>95</th>\n      <td>M9C</td>\n      <td>Etobicoke</td>\n      <td>Bloordale Gardens,Eringate,Markland Wood,Old B...</td>\n    </tr>\n    <tr>\n      <th>96</th>\n      <td>M9L</td>\n      <td>NorthYork</td>\n      <td>Humber Summit</td>\n    </tr>\n    <tr>\n      <th>97</th>\n      <td>M9M</td>\n      <td>NorthYork</td>\n      <td>Emery,Humberlea</td>\n    </tr>\n    <tr>\n      <th>98</th>\n      <td>M9N</td>\n      <td>York</td>\n      <td>Weston</td>\n    </tr>\n    <tr>\n      <th>99</th>\n      <td>M9P</td>\n      <td>Etobicoke</td>\n      <td>Westmount</td>\n    </tr>\n    <tr>\n      <th>100</th>\n      <td>M9R</td>\n      <td>Etobicoke</td>\n      <td>Kingsview Village,Martin Grove Gardens,Richvie...</td>\n    </tr>\n    <tr>\n      <th>101</th>\n      <td>M9V</td>\n      <td>Etobicoke</td>\n      <td>Albion Gardens,Beaumond Heights,Humbergate,Jam...</td>\n    </tr>\n    <tr>\n      <th>102</th>\n      <td>M9W</td>\n      <td>Etobicoke</td>\n      <td>Northwest</td>\n    </tr>\n  </tbody>\n</table>\n<p>103 rows \u00d7 3 columns</p>\n</div>", 
                        "text/plain": "    PostalCode          Borough  \\\n0          M1B      Scarborough   \n1          M1C      Scarborough   \n2          M1E      Scarborough   \n3          M1G      Scarborough   \n4          M1H      Scarborough   \n5          M1J      Scarborough   \n6          M1K      Scarborough   \n7          M1L      Scarborough   \n8          M1M      Scarborough   \n9          M1N      Scarborough   \n10         M1P      Scarborough   \n11         M1R      Scarborough   \n12         M1S      Scarborough   \n13         M1T      Scarborough   \n14         M1V      Scarborough   \n15         M1W      Scarborough   \n16         M1X      Scarborough   \n17         M2H        NorthYork   \n18         M2J        NorthYork   \n19         M2K        NorthYork   \n20         M2L        NorthYork   \n21         M2M        NorthYork   \n22         M2N        NorthYork   \n23         M2P        NorthYork   \n24         M2R        NorthYork   \n25         M3A        NorthYork   \n26         M3B        NorthYork   \n27         M3C        NorthYork   \n28         M3H        NorthYork   \n29         M3J        NorthYork   \n..         ...              ...   \n73         M6C             York   \n74         M6E             York   \n75         M6G  DowntownToronto   \n76         M6H      WestToronto   \n77         M6J      WestToronto   \n78         M6K      WestToronto   \n79         M6L        NorthYork   \n80         M6M             York   \n81         M6N             York   \n82         M6P      WestToronto   \n83         M6R      WestToronto   \n84         M6S      WestToronto   \n85         M7A      Queen'sPark   \n86         M7R      Mississauga   \n87         M7Y      EastToronto   \n88         M8V        Etobicoke   \n89         M8W        Etobicoke   \n90         M8X        Etobicoke   \n91         M8Y        Etobicoke   \n92         M8Z        Etobicoke   \n93         M9A        Etobicoke   \n94         M9B        Etobicoke   \n95         M9C        Etobicoke   \n96         M9L        NorthYork   \n97         M9M        NorthYork   \n98         M9N             York   \n99         M9P        Etobicoke   \n100        M9R        Etobicoke   \n101        M9V        Etobicoke   \n102        M9W        Etobicoke   \n\n                                         Neighbourhood  \n0                                        Rouge,Malvern  \n1                 Highland Creek,Rouge Hill,Port Union  \n2                      Guildwood,Morningside,West Hill  \n3                                               Woburn  \n4                                            Cedarbrae  \n5                                  Scarborough Village  \n6            East Birchmount Park,Ionview,Kennedy Park  \n7                        Clairlea,Golden Mile,Oakridge  \n8        Cliffcrest,Cliffside,Scarborough Village West  \n9                           Birch Cliff,Cliffside West  \n10   Dorset Park,Scarborough Town Centre,Wexford He...  \n11                                    Maryvale,Wexford  \n12                                           Agincourt  \n13               Clarks Corners,Sullivan,Tam O'Shanter  \n14   Agincourt North,L'Amoreaux East,Milliken,Steel...  \n15                                     L'Amoreaux West  \n16                                         Upper Rouge  \n17                                   Hillcrest Village  \n18                          Fairview,Henry Farm,Oriole  \n19                                     Bayview Village  \n20                             Silver Hills,York Mills  \n21                              Newtonbrook,Willowdale  \n22                                    Willowdale South  \n23                                     York Mills West  \n24                                     Willowdale West  \n25                                           Parkwoods  \n26                                     Don Mills North  \n27                     Flemingdon Park,Don Mills South  \n28       Bathurst Manor,Downsview North,Wilson Heights  \n29                      Northwood Park,York University  \n..                                                 ...  \n73                                  Humewood-Cedarvale  \n74                                 Caledonia-Fairbanks  \n75                                            Christie  \n76                         Dovercourt Village,Dufferin  \n77                             Little Portugal,Trinity  \n78          Brockton,Exhibition Place,Parkdale Village  \n79                    Downsview,North Park,Upwood Park  \n80         Del Ray,Keelesdale,Mount Dennis,Silverthorn  \n81                        The Junction North,Runnymede  \n82                        High Park,The Junction South  \n83                               Parkdale,Roncesvalles  \n84                                   Runnymede,Swansea  \n85                                        Queen's Park  \n86               Canada Post Gateway Processing Centre  \n87   Business Reply Mail Processing Centre 969 Eastern  \n88          Humber Bay Shores,Mimico South,New Toronto  \n89                               Alderwood,Long Branch  \n90         The Kingsway,Montgomery Road,Old Mill North  \n91   Humber Bay,King's Mill Park,Kingsway Park Sout...  \n92   Kingsway Park South West,Mimico NW,The Queensw...  \n93                                    Islington Avenue  \n94   Cloverdale,Islington,Martin Grove,Princess Gar...  \n95   Bloordale Gardens,Eringate,Markland Wood,Old B...  \n96                                       Humber Summit  \n97                                     Emery,Humberlea  \n98                                              Weston  \n99                                           Westmount  \n100  Kingsview Village,Martin Grove Gardens,Richvie...  \n101  Albion Gardens,Beaumond Heights,Humbergate,Jam...  \n102                                          Northwest  \n\n[103 rows x 3 columns]"
                    }, 
                    "output_type": "execute_result"
                }
            ], 
            "source": "dfFinal"
        }, 
        {
            "execution_count": 15, 
            "cell_type": "code", 
            "metadata": {}, 
            "outputs": [], 
            "source": "dfFinal.to_csv('torontoPostalCode.csv', index=False)"
        }, 
        {
            "execution_count": null, 
            "cell_type": "code", 
            "metadata": {}, 
            "outputs": [], 
            "source": ""
        }
    ], 
    "metadata": {
        "kernelspec": {
            "display_name": "Python 3.6", 
            "name": "python3", 
            "language": "python"
        }, 
        "language_info": {
            "mimetype": "text/x-python", 
            "nbconvert_exporter": "python", 
            "version": "3.6.8", 
            "name": "python", 
            "file_extension": ".py", 
            "pygments_lexer": "ipython3", 
            "codemirror_mode": {
                "version": 3, 
                "name": "ipython"
            }
        }
    }, 
    "nbformat": 4
}