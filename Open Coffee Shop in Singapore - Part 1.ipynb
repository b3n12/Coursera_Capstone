{
    "nbformat_minor": 1, 
    "cells": [
        {
            "source": "# Best Location to Open Coffee Shop in Singapore\n### Applied Data Science Capstone by Ben Sung\n### July 30, 2019\n## Table of contents\n####   \u2022\tIntroduction\n####   \u2022\tData \n####   \u2022\tMethodology\n####   \u2022\tAnalysis\n####   \u2022\tResults and Discussion\n####   \u2022\tConclusion\n\n## 1\tIntroduction\n\n## 1.1\tBackground\n#### According to the www.singstat.gov.sg, the food and beverage services index in Singapore in May 2019 has a total sales value of 849 million with year-on-year increase of 2%. Indeed, it is a lucrative business to open a restaurant or coffee shop in Singapore. \n#### However, from 2010 to 2015, there were about 3,000 restaurants and coffee shops were opened, but 2,000 closed in each year. Delicious food alone is not enough, there are plenty of other important factors to consider and one of the most important factors is choosing the right location.\n\n## 1.2\tBusiness Problem\n#### Choosing the best location to open a coffee shop in a big city is not an easy feat. Especially in Singapore, where plenty of coffee shops are available in almost every corner of the streets. Competitions are everywhere. Therefore, it is critical to look for location that are not many coffee shops around. \n#### We will also be looking at the population of each neighborhood, as some of the neighborhood have much less people to generate regular customers. So, in this project, we can narrow down to top 10 neighborhoods for our location. \n#### Lastly, we will be looking at the numbers of train stations and bus stops in the vicinity, as these will help to generate human traffics for the shop. We will find the best locations base on these criteria using data science methodology. \n", 
            "cell_type": "markdown", 
            "metadata": {
                "collapsed": true
            }
        }, 
        {
            "execution_count": null, 
            "cell_type": "code", 
            "metadata": {}, 
            "outputs": [], 
            "source": ""
        }
    ], 
    "metadata": {
        "kernelspec": {
            "display_name": "Python 3.6", 
            "name": "python3", 
            "language": "python"
        }, 
        "language_info": {
            "mimetype": "text/x-python", 
            "nbconvert_exporter": "python", 
            "version": "3.6.8", 
            "name": "python", 
            "file_extension": ".py", 
            "pygments_lexer": "ipython3", 
            "codemirror_mode": {
                "version": 3, 
                "name": "ipython"
            }
        }
    }, 
    "nbformat": 4
}