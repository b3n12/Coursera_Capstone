{
    "nbformat_minor": 1, 
    "cells": [
        {
            "source": "## 2\t Data\n\n## 2.1\tData Sources\n#### From the problem statements above, these are the data that will be gathers in for the neighborhood: \n#### \u2022\tTop 10 most populous neighborhoods\n#### \u2022\tNumber of coffee shops\n#### \u2022\tNumber of train stations\n#### \u2022\tNumber of bus stations\n#### For the population of each neighborhood, data will be extracted from a table in this website: www.citypopulation.de/Singapore-Regions.html.\n#### Table will be scraped using Python (BautifulSoup) and sorted based on the most populous and narrow down to top 10 neighborhoods.\n\n#### Next, we will make use of the Foursquare to find the number of coffee shops, train stations and bus stations in the neighborhood. In order to do that, we need to find the geo location of each 10 neighborhoods using Google service. ", 
            "cell_type": "markdown", 
            "metadata": {
                "collapsed": true
            }
        }, 
        {
            "execution_count": null, 
            "cell_type": "code", 
            "metadata": {}, 
            "outputs": [], 
            "source": ""
        }
    ], 
    "metadata": {
        "kernelspec": {
            "display_name": "Python 3.6", 
            "name": "python3", 
            "language": "python"
        }, 
        "language_info": {
            "mimetype": "text/x-python", 
            "nbconvert_exporter": "python", 
            "version": "3.6.8", 
            "name": "python", 
            "file_extension": ".py", 
            "pygments_lexer": "ipython3", 
            "codemirror_mode": {
                "version": 3, 
                "name": "ipython"
            }
        }
    }, 
    "nbformat": 4
}