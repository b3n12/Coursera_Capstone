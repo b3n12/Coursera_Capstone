{
    "nbformat_minor": 4, 
    "cells": [
        {
            "source": "# Best Location to Open Coffee Shop in Singapore\n### Applied Data Science - Capstone Project by Ben Sung\n### July 31, 2019", 
            "cell_type": "markdown", 
            "metadata": {}
        }, 
        {
            "source": "- Explore and cluster the neighborhoods in Singapore\n- Extract data of districts/areas of Singapore through scrapping from internet \n- Perform analysis based on the data for the information in the district/areas\n- Provide maps to visualize neighborhoods and their clustering for insights of the district/areas\n- Conclude the best shop location to open in Singapore", 
            "cell_type": "markdown", 
            "metadata": {}
        }, 
        {
            "execution_count": 3, 
            "cell_type": "code", 
            "metadata": {}, 
            "outputs": [
                {
                    "output_type": "stream", 
                    "name": "stdout", 
                    "text": "Libraries imported.\n"
                }
            ], 
            "source": "# !pip install folium\n# !conda install -c conda-forge folium=0.5.0 --yes # uncomment this line if you haven't completed the Foursquare API lab\n# !conda install -c conda-forge geopy --yes # uncomment this line if you haven't completed the Foursquare API lab\n\nimport numpy as np # library to handle data in a vectorized manner\nimport pandas as pd # library for data analsysis\npd.set_option('display.max_columns', None)\npd.set_option('display.max_rows', None)\n\nimport json # library to handle JSON files\n\nfrom geopy.geocoders import Nominatim # convert an address into latitude and longitude values\n\nimport requests # library to handle requests\nfrom pandas.io.json import json_normalize # tranform JSON file into a pandas dataframe\n\n# Matplotlib and associated plotting modules\nimport matplotlib.cm as cm\nimport matplotlib.colors as colors\n\n# import k-means from clustering stage\nfrom sklearn.cluster import KMeans\n\nimport folium # map rendering library\n\nprint('Libraries imported.')"
        }, 
        {
            "execution_count": 4, 
            "cell_type": "code", 
            "metadata": {}, 
            "outputs": [
                {
                    "output_type": "stream", 
                    "name": "stdout", 
                    "text": "Collecting bs4\n  Downloading https://files.pythonhosted.org/packages/10/ed/7e8b97591f6f456174139ec089c769f89a94a1a4025fe967691de971f314/bs4-0.0.1.tar.gz\nRequirement already satisfied: beautifulsoup4 in /opt/conda/envs/Python36/lib/python3.6/site-packages (from bs4) (4.7.1)\nRequirement already satisfied: soupsieve>=1.2 in /opt/conda/envs/Python36/lib/python3.6/site-packages (from beautifulsoup4->bs4) (1.7.1)\nBuilding wheels for collected packages: bs4\n  Building wheel for bs4 (setup.py) ... \u001b[?25ldone\n\u001b[?25h  Stored in directory: /home/dsxuser/.cache/pip/wheels/a0/b0/b2/4f80b9456b87abedbc0bf2d52235414c3467d8889be38dd472\nSuccessfully built bs4\nInstalling collected packages: bs4\nSuccessfully installed bs4-0.0.1\n"
                }
            ], 
            "source": "!pip install bs4\nimport requests\nfrom urllib.request import urlopen\nfrom bs4 import BeautifulSoup\nimport ssl\nimport csv"
        }, 
        {
            "execution_count": 147, 
            "cell_type": "code", 
            "metadata": {}, 
            "outputs": [], 
            "source": "# SSL certification\n# ctx = ssl.create_default_context()\n# ctx.check_hostname = False\n# ctx.verify_mode = ssl.CERT_NONE\n\nsource = requests.get('http://www.citypopulation.de/Singapore-Regions.html').text\nsoup = BeautifulSoup(source, 'html5lib')"
        }, 
        {
            "execution_count": 148, 
            "cell_type": "code", 
            "metadata": {}, 
            "outputs": [], 
            "source": "table = soup.find('table', id=\"ts\")\ntable_rows = table.find_all('tr')"
        }, 
        {
            "execution_count": 149, 
            "cell_type": "code", 
            "metadata": {}, 
            "outputs": [], 
            "source": "dataExtracted = []\nfor row in table_rows:\n    dataExtracted.append([t.text.strip() for t in row.find_all('td')])"
        }, 
        {
            "execution_count": 150, 
            "cell_type": "code", 
            "metadata": {}, 
            "outputs": [
                {
                    "output_type": "stream", 
                    "name": "stdout", 
                    "text": "<class 'pandas.core.frame.DataFrame'>\nRangeIndex: 35 entries, 0 to 34\nData columns (total 9 columns):\n0    34 non-null object\n1    34 non-null object\n2    34 non-null object\n3    34 non-null object\n4    34 non-null object\n5    34 non-null object\n6    34 non-null object\n7    34 non-null object\n8    34 non-null object\ndtypes: object(9)\nmemory usage: 2.5+ KB\n"
                }
            ], 
            "source": "df = pd.DataFrame(dataExtracted)\ndf.info()"
        }, 
        {
            "execution_count": 151, 
            "cell_type": "code", 
            "metadata": {}, 
            "outputs": [
                {
                    "execution_count": 151, 
                    "metadata": {}, 
                    "data": {
                        "text/html": "<div>\n<style scoped>\n    .dataframe tbody tr th:only-of-type {\n        vertical-align: middle;\n    }\n\n    .dataframe tbody tr th {\n        vertical-align: top;\n    }\n\n    .dataframe thead th {\n        text-align: right;\n    }\n</style>\n<table border=\"1\" class=\"dataframe\">\n  <thead>\n    <tr style=\"text-align: right;\">\n      <th></th>\n      <th>0</th>\n      <th>1</th>\n      <th>2</th>\n      <th>3</th>\n      <th>4</th>\n      <th>5</th>\n      <th>6</th>\n      <th>7</th>\n      <th>8</th>\n    </tr>\n  </thead>\n  <tbody>\n    <tr>\n      <th>0</th>\n      <td>None</td>\n      <td>None</td>\n      <td>None</td>\n      <td>None</td>\n      <td>None</td>\n      <td>None</td>\n      <td>None</td>\n      <td>None</td>\n      <td>None</td>\n    </tr>\n    <tr>\n      <th>1</th>\n      <td></td>\n      <td>Ang Mo Kio</td>\n      <td>NE</td>\n      <td>180,112</td>\n      <td>179,297</td>\n      <td>174,770</td>\n      <td>165,710</td>\n      <td>1340</td>\n      <td>\u2192</td>\n    </tr>\n    <tr>\n      <th>2</th>\n      <td></td>\n      <td>Bedok</td>\n      <td>E</td>\n      <td>284,318</td>\n      <td>294,519</td>\n      <td>289,750</td>\n      <td>281,300</td>\n      <td>2160</td>\n      <td>\u2192</td>\n    </tr>\n    <tr>\n      <th>3</th>\n      <td></td>\n      <td>Bishan</td>\n      <td>C</td>\n      <td>89,746</td>\n      <td>91,298</td>\n      <td>90,700</td>\n      <td>88,490</td>\n      <td>740</td>\n      <td>\u2192</td>\n    </tr>\n    <tr>\n      <th>4</th>\n      <td></td>\n      <td>Bukit Batok</td>\n      <td>W</td>\n      <td>126,200</td>\n      <td>144,198</td>\n      <td>139,270</td>\n      <td>144,410</td>\n      <td>1100</td>\n      <td>\u2192</td>\n    </tr>\n  </tbody>\n</table>\n</div>", 
                        "text/plain": "      0            1     2        3        4        5        6     7     8\n0  None         None  None     None     None     None     None  None  None\n1         Ang Mo Kio    NE  180,112  179,297  174,770  165,710  1340     \u2192\n2              Bedok     E  284,318  294,519  289,750  281,300  2160     \u2192\n3             Bishan     C   89,746   91,298   90,700   88,490   740     \u2192\n4        Bukit Batok     W  126,200  144,198  139,270  144,410  1100     \u2192"
                    }, 
                    "output_type": "execute_result"
                }
            ], 
            "source": "df.head()"
        }, 
        {
            "execution_count": 152, 
            "cell_type": "code", 
            "metadata": {}, 
            "outputs": [
                {
                    "execution_count": 152, 
                    "metadata": {}, 
                    "data": {
                        "text/html": "<div>\n<style scoped>\n    .dataframe tbody tr th:only-of-type {\n        vertical-align: middle;\n    }\n\n    .dataframe tbody tr th {\n        vertical-align: top;\n    }\n\n    .dataframe thead th {\n        text-align: right;\n    }\n</style>\n<table border=\"1\" class=\"dataframe\">\n  <thead>\n    <tr style=\"text-align: right;\">\n      <th></th>\n      <th>Neighborhood</th>\n      <th>Population</th>\n    </tr>\n  </thead>\n  <tbody>\n    <tr>\n      <th>1</th>\n      <td>Ang Mo Kio</td>\n      <td>165,710</td>\n    </tr>\n    <tr>\n      <th>2</th>\n      <td>Bedok</td>\n      <td>281,300</td>\n    </tr>\n    <tr>\n      <th>3</th>\n      <td>Bishan</td>\n      <td>88,490</td>\n    </tr>\n    <tr>\n      <th>4</th>\n      <td>Bukit Batok</td>\n      <td>144,410</td>\n    </tr>\n    <tr>\n      <th>5</th>\n      <td>Bukit Merah</td>\n      <td>151,870</td>\n    </tr>\n    <tr>\n      <th>6</th>\n      <td>Bukit Panjang</td>\n      <td>140,820</td>\n    </tr>\n    <tr>\n      <th>7</th>\n      <td>Bukit Timah</td>\n      <td>77,280</td>\n    </tr>\n    <tr>\n      <th>8</th>\n      <td>Changi</td>\n      <td>2,080</td>\n    </tr>\n    <tr>\n      <th>9</th>\n      <td>Choa Chu Kang</td>\n      <td>187,510</td>\n    </tr>\n    <tr>\n      <th>10</th>\n      <td>Clementi</td>\n      <td>93,000</td>\n    </tr>\n    <tr>\n      <th>11</th>\n      <td>Geylang</td>\n      <td>111,610</td>\n    </tr>\n    <tr>\n      <th>12</th>\n      <td>Hougang</td>\n      <td>223,010</td>\n    </tr>\n    <tr>\n      <th>13</th>\n      <td>Jurong East</td>\n      <td>81,180</td>\n    </tr>\n    <tr>\n      <th>14</th>\n      <td>Jurong West</td>\n      <td>266,720</td>\n    </tr>\n    <tr>\n      <th>15</th>\n      <td>Kallang</td>\n      <td>101,420</td>\n    </tr>\n    <tr>\n      <th>16</th>\n      <td>Marine Parade</td>\n      <td>47,250</td>\n    </tr>\n    <tr>\n      <th>17</th>\n      <td>Newton</td>\n      <td>7,640</td>\n    </tr>\n    <tr>\n      <th>18</th>\n      <td>Novena</td>\n      <td>48,950</td>\n    </tr>\n    <tr>\n      <th>19</th>\n      <td>Outram</td>\n      <td>20,030</td>\n    </tr>\n    <tr>\n      <th>20</th>\n      <td>Pasir Ris</td>\n      <td>146,920</td>\n    </tr>\n    <tr>\n      <th>21</th>\n      <td>Punggol</td>\n      <td>161,570</td>\n    </tr>\n    <tr>\n      <th>22</th>\n      <td>Queenstown</td>\n      <td>97,870</td>\n    </tr>\n    <tr>\n      <th>23</th>\n      <td>River Valley</td>\n      <td>9,930</td>\n    </tr>\n    <tr>\n      <th>24</th>\n      <td>Rochor</td>\n      <td>13,450</td>\n    </tr>\n    <tr>\n      <th>25</th>\n      <td>Sembawang</td>\n      <td>87,380</td>\n    </tr>\n    <tr>\n      <th>26</th>\n      <td>Sengkang</td>\n      <td>240,640</td>\n    </tr>\n    <tr>\n      <th>27</th>\n      <td>Serangoon</td>\n      <td>117,310</td>\n    </tr>\n    <tr>\n      <th>28</th>\n      <td>Singapore (Downtown Core)</td>\n      <td>2,510</td>\n    </tr>\n    <tr>\n      <th>29</th>\n      <td>Singapore River</td>\n      <td>2,980</td>\n    </tr>\n    <tr>\n      <th>30</th>\n      <td>Tampines</td>\n      <td>257,110</td>\n    </tr>\n    <tr>\n      <th>31</th>\n      <td>Tanglin</td>\n      <td>20,960</td>\n    </tr>\n    <tr>\n      <th>32</th>\n      <td>Toa Payoh</td>\n      <td>120,480</td>\n    </tr>\n    <tr>\n      <th>33</th>\n      <td>Woodlands</td>\n      <td>252,530</td>\n    </tr>\n    <tr>\n      <th>34</th>\n      <td>Yishun</td>\n      <td>214,940</td>\n    </tr>\n  </tbody>\n</table>\n</div>", 
                        "text/plain": "                 Neighborhood Population\n1                  Ang Mo Kio    165,710\n2                       Bedok    281,300\n3                      Bishan     88,490\n4                 Bukit Batok    144,410\n5                 Bukit Merah    151,870\n6               Bukit Panjang    140,820\n7                 Bukit Timah     77,280\n8                      Changi      2,080\n9               Choa Chu Kang    187,510\n10                   Clementi     93,000\n11                    Geylang    111,610\n12                    Hougang    223,010\n13                Jurong East     81,180\n14                Jurong West    266,720\n15                    Kallang    101,420\n16              Marine Parade     47,250\n17                     Newton      7,640\n18                     Novena     48,950\n19                     Outram     20,030\n20                  Pasir Ris    146,920\n21                    Punggol    161,570\n22                 Queenstown     97,870\n23               River Valley      9,930\n24                     Rochor     13,450\n25                  Sembawang     87,380\n26                   Sengkang    240,640\n27                  Serangoon    117,310\n28  Singapore (Downtown Core)      2,510\n29            Singapore River      2,980\n30                   Tampines    257,110\n31                    Tanglin     20,960\n32                  Toa Payoh    120,480\n33                  Woodlands    252,530\n34                     Yishun    214,940"
                    }, 
                    "output_type": "execute_result"
                }
            ], 
            "source": "df.rename(columns={0:\"Drop1\", 1:\"Neighborhood\", 2:\"Drop2\", 3:\"Drop3\", 4:\"Drop4\", 5:\"Drop5\", 6:\"Population\", 7:\"Drop6\", 8:\"Drop7\"}, inplace=True)\ndf.drop(['Drop1', 'Drop2', 'Drop3', 'Drop4', 'Drop5', 'Drop6', 'Drop7'], axis=1, inplace=True)\ndf.drop([0], axis=0)\ndf.drop([0], axis=0, inplace=True)\ndf"
        }, 
        {
            "execution_count": 153, 
            "cell_type": "code", 
            "metadata": {}, 
            "outputs": [
                {
                    "execution_count": 153, 
                    "metadata": {}, 
                    "data": {
                        "text/html": "<div>\n<style scoped>\n    .dataframe tbody tr th:only-of-type {\n        vertical-align: middle;\n    }\n\n    .dataframe tbody tr th {\n        vertical-align: top;\n    }\n\n    .dataframe thead th {\n        text-align: right;\n    }\n</style>\n<table border=\"1\" class=\"dataframe\">\n  <thead>\n    <tr style=\"text-align: right;\">\n      <th></th>\n      <th>Neighborhood</th>\n      <th>Population</th>\n    </tr>\n  </thead>\n  <tbody>\n    <tr>\n      <th>22</th>\n      <td>Queenstown</td>\n      <td>97,870</td>\n    </tr>\n    <tr>\n      <th>10</th>\n      <td>Clementi</td>\n      <td>93,000</td>\n    </tr>\n    <tr>\n      <th>23</th>\n      <td>River Valley</td>\n      <td>9,930</td>\n    </tr>\n    <tr>\n      <th>3</th>\n      <td>Bishan</td>\n      <td>88,490</td>\n    </tr>\n    <tr>\n      <th>25</th>\n      <td>Sembawang</td>\n      <td>87,380</td>\n    </tr>\n    <tr>\n      <th>13</th>\n      <td>Jurong East</td>\n      <td>81,180</td>\n    </tr>\n    <tr>\n      <th>7</th>\n      <td>Bukit Timah</td>\n      <td>77,280</td>\n    </tr>\n    <tr>\n      <th>17</th>\n      <td>Newton</td>\n      <td>7,640</td>\n    </tr>\n    <tr>\n      <th>18</th>\n      <td>Novena</td>\n      <td>48,950</td>\n    </tr>\n    <tr>\n      <th>16</th>\n      <td>Marine Parade</td>\n      <td>47,250</td>\n    </tr>\n    <tr>\n      <th>2</th>\n      <td>Bedok</td>\n      <td>281,300</td>\n    </tr>\n    <tr>\n      <th>14</th>\n      <td>Jurong West</td>\n      <td>266,720</td>\n    </tr>\n    <tr>\n      <th>30</th>\n      <td>Tampines</td>\n      <td>257,110</td>\n    </tr>\n    <tr>\n      <th>33</th>\n      <td>Woodlands</td>\n      <td>252,530</td>\n    </tr>\n    <tr>\n      <th>26</th>\n      <td>Sengkang</td>\n      <td>240,640</td>\n    </tr>\n    <tr>\n      <th>12</th>\n      <td>Hougang</td>\n      <td>223,010</td>\n    </tr>\n    <tr>\n      <th>34</th>\n      <td>Yishun</td>\n      <td>214,940</td>\n    </tr>\n    <tr>\n      <th>31</th>\n      <td>Tanglin</td>\n      <td>20,960</td>\n    </tr>\n    <tr>\n      <th>19</th>\n      <td>Outram</td>\n      <td>20,030</td>\n    </tr>\n    <tr>\n      <th>29</th>\n      <td>Singapore River</td>\n      <td>2,980</td>\n    </tr>\n    <tr>\n      <th>28</th>\n      <td>Singapore (Downtown Core)</td>\n      <td>2,510</td>\n    </tr>\n    <tr>\n      <th>8</th>\n      <td>Changi</td>\n      <td>2,080</td>\n    </tr>\n    <tr>\n      <th>9</th>\n      <td>Choa Chu Kang</td>\n      <td>187,510</td>\n    </tr>\n    <tr>\n      <th>1</th>\n      <td>Ang Mo Kio</td>\n      <td>165,710</td>\n    </tr>\n    <tr>\n      <th>21</th>\n      <td>Punggol</td>\n      <td>161,570</td>\n    </tr>\n    <tr>\n      <th>5</th>\n      <td>Bukit Merah</td>\n      <td>151,870</td>\n    </tr>\n    <tr>\n      <th>20</th>\n      <td>Pasir Ris</td>\n      <td>146,920</td>\n    </tr>\n    <tr>\n      <th>4</th>\n      <td>Bukit Batok</td>\n      <td>144,410</td>\n    </tr>\n    <tr>\n      <th>6</th>\n      <td>Bukit Panjang</td>\n      <td>140,820</td>\n    </tr>\n    <tr>\n      <th>24</th>\n      <td>Rochor</td>\n      <td>13,450</td>\n    </tr>\n    <tr>\n      <th>32</th>\n      <td>Toa Payoh</td>\n      <td>120,480</td>\n    </tr>\n    <tr>\n      <th>27</th>\n      <td>Serangoon</td>\n      <td>117,310</td>\n    </tr>\n    <tr>\n      <th>11</th>\n      <td>Geylang</td>\n      <td>111,610</td>\n    </tr>\n    <tr>\n      <th>15</th>\n      <td>Kallang</td>\n      <td>101,420</td>\n    </tr>\n  </tbody>\n</table>\n</div>", 
                        "text/plain": "                 Neighborhood Population\n22                 Queenstown     97,870\n10                   Clementi     93,000\n23               River Valley      9,930\n3                      Bishan     88,490\n25                  Sembawang     87,380\n13                Jurong East     81,180\n7                 Bukit Timah     77,280\n17                     Newton      7,640\n18                     Novena     48,950\n16              Marine Parade     47,250\n2                       Bedok    281,300\n14                Jurong West    266,720\n30                   Tampines    257,110\n33                  Woodlands    252,530\n26                   Sengkang    240,640\n12                    Hougang    223,010\n34                     Yishun    214,940\n31                    Tanglin     20,960\n19                     Outram     20,030\n29            Singapore River      2,980\n28  Singapore (Downtown Core)      2,510\n8                      Changi      2,080\n9               Choa Chu Kang    187,510\n1                  Ang Mo Kio    165,710\n21                    Punggol    161,570\n5                 Bukit Merah    151,870\n20                  Pasir Ris    146,920\n4                 Bukit Batok    144,410\n6               Bukit Panjang    140,820\n24                     Rochor     13,450\n32                  Toa Payoh    120,480\n27                  Serangoon    117,310\n11                    Geylang    111,610\n15                    Kallang    101,420"
                    }, 
                    "output_type": "execute_result"
                }
            ], 
            "source": "df.sort_values(by=['Population'], ascending=False, inplace=True)\ndf"
        }, 
        {
            "execution_count": 154, 
            "cell_type": "code", 
            "metadata": {}, 
            "outputs": [
                {
                    "execution_count": 154, 
                    "metadata": {}, 
                    "data": {
                        "text/html": "<div>\n<style scoped>\n    .dataframe tbody tr th:only-of-type {\n        vertical-align: middle;\n    }\n\n    .dataframe tbody tr th {\n        vertical-align: top;\n    }\n\n    .dataframe thead th {\n        text-align: right;\n    }\n</style>\n<table border=\"1\" class=\"dataframe\">\n  <thead>\n    <tr style=\"text-align: right;\">\n      <th></th>\n      <th>Neighborhood</th>\n      <th>Population</th>\n    </tr>\n  </thead>\n  <tbody>\n    <tr>\n      <th>2</th>\n      <td>Bedok</td>\n      <td>281,300</td>\n    </tr>\n    <tr>\n      <th>14</th>\n      <td>Jurong West</td>\n      <td>266,720</td>\n    </tr>\n    <tr>\n      <th>30</th>\n      <td>Tampines</td>\n      <td>257,110</td>\n    </tr>\n    <tr>\n      <th>33</th>\n      <td>Woodlands</td>\n      <td>252,530</td>\n    </tr>\n    <tr>\n      <th>26</th>\n      <td>Sengkang</td>\n      <td>240,640</td>\n    </tr>\n    <tr>\n      <th>12</th>\n      <td>Hougang</td>\n      <td>223,010</td>\n    </tr>\n    <tr>\n      <th>34</th>\n      <td>Yishun</td>\n      <td>214,940</td>\n    </tr>\n    <tr>\n      <th>9</th>\n      <td>Choa Chu Kang</td>\n      <td>187,510</td>\n    </tr>\n    <tr>\n      <th>1</th>\n      <td>Ang Mo Kio</td>\n      <td>165,710</td>\n    </tr>\n    <tr>\n      <th>21</th>\n      <td>Punggol</td>\n      <td>161,570</td>\n    </tr>\n  </tbody>\n</table>\n</div>", 
                        "text/plain": "     Neighborhood Population\n2           Bedok    281,300\n14    Jurong West    266,720\n30       Tampines    257,110\n33      Woodlands    252,530\n26       Sengkang    240,640\n12        Hougang    223,010\n34         Yishun    214,940\n9   Choa Chu Kang    187,510\n1      Ang Mo Kio    165,710\n21        Punggol    161,570"
                    }, 
                    "output_type": "execute_result"
                }
            ], 
            "source": "# Get the Top 10 most populous neighborhoods\ndf.drop([22,10,23,3,25,13,7,17,18,16,31,19,29,28,8,5,20,4,6,24,32,27,11,15], axis=0, inplace=True)\ndf"
        }, 
        {
            "execution_count": null, 
            "cell_type": "code", 
            "metadata": {}, 
            "outputs": [], 
            "source": ""
        }, 
        {
            "execution_count": 72, 
            "cell_type": "code", 
            "metadata": {}, 
            "outputs": [
                {
                    "execution_count": 72, 
                    "metadata": {}, 
                    "data": {
                        "text/plain": "Neighborhood    object\nPopulation      object\ndtype: object"
                    }, 
                    "output_type": "execute_result"
                }
            ], 
            "source": "df.dtypes"
        }, 
        {
            "execution_count": 80, 
            "cell_type": "code", 
            "metadata": {}, 
            "outputs": [
                {
                    "execution_count": 80, 
                    "metadata": {}, 
                    "data": {
                        "text/plain": "Neighborhood     object\nPopulation      float64\nPopulatoin      float64\ndtype: object"
                    }, 
                    "output_type": "execute_result"
                }
            ], 
            "source": "df[[\"Population\"]] = df[[\"Population\"]].apply(pd.to_numeric, errors='coerce')\ndf.dtypes"
        }, 
        {
            "execution_count": 81, 
            "cell_type": "code", 
            "metadata": {}, 
            "outputs": [
                {
                    "execution_count": 81, 
                    "metadata": {}, 
                    "data": {
                        "text/html": "<div>\n<style scoped>\n    .dataframe tbody tr th:only-of-type {\n        vertical-align: middle;\n    }\n\n    .dataframe tbody tr th {\n        vertical-align: top;\n    }\n\n    .dataframe thead th {\n        text-align: right;\n    }\n</style>\n<table border=\"1\" class=\"dataframe\">\n  <thead>\n    <tr style=\"text-align: right;\">\n      <th></th>\n      <th>Neighborhood</th>\n      <th>Population</th>\n      <th>Populatoin</th>\n    </tr>\n  </thead>\n  <tbody>\n    <tr>\n      <th>22</th>\n      <td>Queenstown</td>\n      <td>NaN</td>\n      <td>NaN</td>\n    </tr>\n    <tr>\n      <th>10</th>\n      <td>Clementi</td>\n      <td>NaN</td>\n      <td>NaN</td>\n    </tr>\n    <tr>\n      <th>23</th>\n      <td>River Valley</td>\n      <td>NaN</td>\n      <td>NaN</td>\n    </tr>\n    <tr>\n      <th>3</th>\n      <td>Bishan</td>\n      <td>NaN</td>\n      <td>NaN</td>\n    </tr>\n    <tr>\n      <th>25</th>\n      <td>Sembawang</td>\n      <td>NaN</td>\n      <td>NaN</td>\n    </tr>\n    <tr>\n      <th>13</th>\n      <td>Jurong East</td>\n      <td>NaN</td>\n      <td>NaN</td>\n    </tr>\n    <tr>\n      <th>7</th>\n      <td>Bukit Timah</td>\n      <td>NaN</td>\n      <td>NaN</td>\n    </tr>\n    <tr>\n      <th>17</th>\n      <td>Newton</td>\n      <td>NaN</td>\n      <td>NaN</td>\n    </tr>\n    <tr>\n      <th>18</th>\n      <td>Novena</td>\n      <td>NaN</td>\n      <td>NaN</td>\n    </tr>\n    <tr>\n      <th>16</th>\n      <td>Marine Parade</td>\n      <td>NaN</td>\n      <td>NaN</td>\n    </tr>\n    <tr>\n      <th>2</th>\n      <td>Bedok</td>\n      <td>NaN</td>\n      <td>NaN</td>\n    </tr>\n    <tr>\n      <th>14</th>\n      <td>Jurong West</td>\n      <td>NaN</td>\n      <td>NaN</td>\n    </tr>\n    <tr>\n      <th>30</th>\n      <td>Tampines</td>\n      <td>NaN</td>\n      <td>NaN</td>\n    </tr>\n    <tr>\n      <th>33</th>\n      <td>Woodlands</td>\n      <td>NaN</td>\n      <td>NaN</td>\n    </tr>\n    <tr>\n      <th>26</th>\n      <td>Sengkang</td>\n      <td>NaN</td>\n      <td>NaN</td>\n    </tr>\n    <tr>\n      <th>12</th>\n      <td>Hougang</td>\n      <td>NaN</td>\n      <td>NaN</td>\n    </tr>\n    <tr>\n      <th>34</th>\n      <td>Yishun</td>\n      <td>NaN</td>\n      <td>NaN</td>\n    </tr>\n    <tr>\n      <th>31</th>\n      <td>Tanglin</td>\n      <td>NaN</td>\n      <td>NaN</td>\n    </tr>\n    <tr>\n      <th>19</th>\n      <td>Outram</td>\n      <td>NaN</td>\n      <td>NaN</td>\n    </tr>\n    <tr>\n      <th>29</th>\n      <td>Singapore River</td>\n      <td>NaN</td>\n      <td>NaN</td>\n    </tr>\n    <tr>\n      <th>28</th>\n      <td>Singapore (Downtown Core)</td>\n      <td>NaN</td>\n      <td>NaN</td>\n    </tr>\n    <tr>\n      <th>8</th>\n      <td>Changi</td>\n      <td>NaN</td>\n      <td>NaN</td>\n    </tr>\n    <tr>\n      <th>9</th>\n      <td>Choa Chu Kang</td>\n      <td>NaN</td>\n      <td>NaN</td>\n    </tr>\n    <tr>\n      <th>1</th>\n      <td>Ang Mo Kio</td>\n      <td>NaN</td>\n      <td>NaN</td>\n    </tr>\n    <tr>\n      <th>21</th>\n      <td>Punggol</td>\n      <td>NaN</td>\n      <td>NaN</td>\n    </tr>\n    <tr>\n      <th>5</th>\n      <td>Bukit Merah</td>\n      <td>NaN</td>\n      <td>NaN</td>\n    </tr>\n    <tr>\n      <th>20</th>\n      <td>Pasir Ris</td>\n      <td>NaN</td>\n      <td>NaN</td>\n    </tr>\n    <tr>\n      <th>4</th>\n      <td>Bukit Batok</td>\n      <td>NaN</td>\n      <td>NaN</td>\n    </tr>\n    <tr>\n      <th>6</th>\n      <td>Bukit Panjang</td>\n      <td>NaN</td>\n      <td>NaN</td>\n    </tr>\n    <tr>\n      <th>24</th>\n      <td>Rochor</td>\n      <td>NaN</td>\n      <td>NaN</td>\n    </tr>\n    <tr>\n      <th>32</th>\n      <td>Toa Payoh</td>\n      <td>NaN</td>\n      <td>NaN</td>\n    </tr>\n    <tr>\n      <th>27</th>\n      <td>Serangoon</td>\n      <td>NaN</td>\n      <td>NaN</td>\n    </tr>\n    <tr>\n      <th>11</th>\n      <td>Geylang</td>\n      <td>NaN</td>\n      <td>NaN</td>\n    </tr>\n    <tr>\n      <th>15</th>\n      <td>Kallang</td>\n      <td>NaN</td>\n      <td>NaN</td>\n    </tr>\n  </tbody>\n</table>\n</div>", 
                        "text/plain": "                 Neighborhood  Population  Populatoin\n22                 Queenstown         NaN         NaN\n10                   Clementi         NaN         NaN\n23               River Valley         NaN         NaN\n3                      Bishan         NaN         NaN\n25                  Sembawang         NaN         NaN\n13                Jurong East         NaN         NaN\n7                 Bukit Timah         NaN         NaN\n17                     Newton         NaN         NaN\n18                     Novena         NaN         NaN\n16              Marine Parade         NaN         NaN\n2                       Bedok         NaN         NaN\n14                Jurong West         NaN         NaN\n30                   Tampines         NaN         NaN\n33                  Woodlands         NaN         NaN\n26                   Sengkang         NaN         NaN\n12                    Hougang         NaN         NaN\n34                     Yishun         NaN         NaN\n31                    Tanglin         NaN         NaN\n19                     Outram         NaN         NaN\n29            Singapore River         NaN         NaN\n28  Singapore (Downtown Core)         NaN         NaN\n8                      Changi         NaN         NaN\n9               Choa Chu Kang         NaN         NaN\n1                  Ang Mo Kio         NaN         NaN\n21                    Punggol         NaN         NaN\n5                 Bukit Merah         NaN         NaN\n20                  Pasir Ris         NaN         NaN\n4                 Bukit Batok         NaN         NaN\n6               Bukit Panjang         NaN         NaN\n24                     Rochor         NaN         NaN\n32                  Toa Payoh         NaN         NaN\n27                  Serangoon         NaN         NaN\n11                    Geylang         NaN         NaN\n15                    Kallang         NaN         NaN"
                    }, 
                    "output_type": "execute_result"
                }
            ], 
            "source": "df"
        }, 
        {
            "execution_count": null, 
            "cell_type": "code", 
            "metadata": {}, 
            "outputs": [], 
            "source": ""
        }, 
        {
            "execution_count": 77, 
            "cell_type": "code", 
            "metadata": {}, 
            "outputs": [
                {
                    "ename": "AttributeError", 
                    "evalue": "'str' object has no attribute 'astype'", 
                    "traceback": [
                        "\u001b[0;31m---------------------------------------------------------------------------\u001b[0m", 
                        "\u001b[0;31mAttributeError\u001b[0m                            Traceback (most recent call last)", 
                        "\u001b[0;32m<ipython-input-77-2bc5c198e5e3>\u001b[0m in \u001b[0;36m<module>\u001b[0;34m\u001b[0m\n\u001b[0;32m----> 1\u001b[0;31m \u001b[0mdf\u001b[0m\u001b[0;34m[\u001b[0m\u001b[0;34m'Population'\u001b[0m\u001b[0;34m]\u001b[0m \u001b[0;34m=\u001b[0m \u001b[0mdf\u001b[0m\u001b[0;34m[\u001b[0m\u001b[0;34m'Population'\u001b[0m\u001b[0;34m]\u001b[0m\u001b[0;34m.\u001b[0m\u001b[0mapply\u001b[0m\u001b[0;34m(\u001b[0m\u001b[0;32mlambda\u001b[0m \u001b[0mx\u001b[0m\u001b[0;34m:\u001b[0m \u001b[0mpd\u001b[0m\u001b[0;34m.\u001b[0m\u001b[0mto_numeric\u001b[0m\u001b[0;34m(\u001b[0m\u001b[0mx\u001b[0m\u001b[0;34m.\u001b[0m\u001b[0mastype\u001b[0m\u001b[0;34m(\u001b[0m\u001b[0mobject\u001b[0m\u001b[0;34m)\u001b[0m\u001b[0;34m.\u001b[0m\u001b[0mstr\u001b[0m\u001b[0;34m.\u001b[0m\u001b[0mreplace\u001b[0m\u001b[0;34m(\u001b[0m\u001b[0;34m','\u001b[0m\u001b[0;34m,\u001b[0m\u001b[0;34m''\u001b[0m\u001b[0;34m)\u001b[0m\u001b[0;34m,\u001b[0m \u001b[0merrors\u001b[0m\u001b[0;34m=\u001b[0m\u001b[0;34m'coerce'\u001b[0m\u001b[0;34m)\u001b[0m\u001b[0;34m)\u001b[0m\u001b[0;34m\u001b[0m\u001b[0;34m\u001b[0m\u001b[0m\n\u001b[0m\u001b[1;32m      2\u001b[0m \u001b[0mdf\u001b[0m\u001b[0;34m.\u001b[0m\u001b[0mdtypes\u001b[0m\u001b[0;34m\u001b[0m\u001b[0;34m\u001b[0m\u001b[0m\n", 
                        "\u001b[0;32m/opt/conda/envs/Python36/lib/python3.6/site-packages/pandas/core/series.py\u001b[0m in \u001b[0;36mapply\u001b[0;34m(self, func, convert_dtype, args, **kwds)\u001b[0m\n\u001b[1;32m   3589\u001b[0m             \u001b[0;32melse\u001b[0m\u001b[0;34m:\u001b[0m\u001b[0;34m\u001b[0m\u001b[0;34m\u001b[0m\u001b[0m\n\u001b[1;32m   3590\u001b[0m                 \u001b[0mvalues\u001b[0m \u001b[0;34m=\u001b[0m \u001b[0mself\u001b[0m\u001b[0;34m.\u001b[0m\u001b[0mastype\u001b[0m\u001b[0;34m(\u001b[0m\u001b[0mobject\u001b[0m\u001b[0;34m)\u001b[0m\u001b[0;34m.\u001b[0m\u001b[0mvalues\u001b[0m\u001b[0;34m\u001b[0m\u001b[0;34m\u001b[0m\u001b[0m\n\u001b[0;32m-> 3591\u001b[0;31m                 \u001b[0mmapped\u001b[0m \u001b[0;34m=\u001b[0m \u001b[0mlib\u001b[0m\u001b[0;34m.\u001b[0m\u001b[0mmap_infer\u001b[0m\u001b[0;34m(\u001b[0m\u001b[0mvalues\u001b[0m\u001b[0;34m,\u001b[0m \u001b[0mf\u001b[0m\u001b[0;34m,\u001b[0m \u001b[0mconvert\u001b[0m\u001b[0;34m=\u001b[0m\u001b[0mconvert_dtype\u001b[0m\u001b[0;34m)\u001b[0m\u001b[0;34m\u001b[0m\u001b[0;34m\u001b[0m\u001b[0m\n\u001b[0m\u001b[1;32m   3592\u001b[0m \u001b[0;34m\u001b[0m\u001b[0m\n\u001b[1;32m   3593\u001b[0m         \u001b[0;32mif\u001b[0m \u001b[0mlen\u001b[0m\u001b[0;34m(\u001b[0m\u001b[0mmapped\u001b[0m\u001b[0;34m)\u001b[0m \u001b[0;32mand\u001b[0m \u001b[0misinstance\u001b[0m\u001b[0;34m(\u001b[0m\u001b[0mmapped\u001b[0m\u001b[0;34m[\u001b[0m\u001b[0;36m0\u001b[0m\u001b[0;34m]\u001b[0m\u001b[0;34m,\u001b[0m \u001b[0mSeries\u001b[0m\u001b[0;34m)\u001b[0m\u001b[0;34m:\u001b[0m\u001b[0;34m\u001b[0m\u001b[0;34m\u001b[0m\u001b[0m\n", 
                        "\u001b[0;32mpandas/_libs/lib.pyx\u001b[0m in \u001b[0;36mpandas._libs.lib.map_infer\u001b[0;34m()\u001b[0m\n", 
                        "\u001b[0;32m<ipython-input-77-2bc5c198e5e3>\u001b[0m in \u001b[0;36m<lambda>\u001b[0;34m(x)\u001b[0m\n\u001b[0;32m----> 1\u001b[0;31m \u001b[0mdf\u001b[0m\u001b[0;34m[\u001b[0m\u001b[0;34m'Population'\u001b[0m\u001b[0;34m]\u001b[0m \u001b[0;34m=\u001b[0m \u001b[0mdf\u001b[0m\u001b[0;34m[\u001b[0m\u001b[0;34m'Population'\u001b[0m\u001b[0;34m]\u001b[0m\u001b[0;34m.\u001b[0m\u001b[0mapply\u001b[0m\u001b[0;34m(\u001b[0m\u001b[0;32mlambda\u001b[0m \u001b[0mx\u001b[0m\u001b[0;34m:\u001b[0m \u001b[0mpd\u001b[0m\u001b[0;34m.\u001b[0m\u001b[0mto_numeric\u001b[0m\u001b[0;34m(\u001b[0m\u001b[0mx\u001b[0m\u001b[0;34m.\u001b[0m\u001b[0mastype\u001b[0m\u001b[0;34m(\u001b[0m\u001b[0mobject\u001b[0m\u001b[0;34m)\u001b[0m\u001b[0;34m.\u001b[0m\u001b[0mstr\u001b[0m\u001b[0;34m.\u001b[0m\u001b[0mreplace\u001b[0m\u001b[0;34m(\u001b[0m\u001b[0;34m','\u001b[0m\u001b[0;34m,\u001b[0m\u001b[0;34m''\u001b[0m\u001b[0;34m)\u001b[0m\u001b[0;34m,\u001b[0m \u001b[0merrors\u001b[0m\u001b[0;34m=\u001b[0m\u001b[0;34m'coerce'\u001b[0m\u001b[0;34m)\u001b[0m\u001b[0;34m)\u001b[0m\u001b[0;34m\u001b[0m\u001b[0;34m\u001b[0m\u001b[0m\n\u001b[0m\u001b[1;32m      2\u001b[0m \u001b[0mdf\u001b[0m\u001b[0;34m.\u001b[0m\u001b[0mdtypes\u001b[0m\u001b[0;34m\u001b[0m\u001b[0;34m\u001b[0m\u001b[0m\n", 
                        "\u001b[0;31mAttributeError\u001b[0m: 'str' object has no attribute 'astype'"
                    ], 
                    "output_type": "error"
                }
            ], 
            "source": "df['Population'] = df['Population'].apply(lambda x: pd.to_numeric(x.astype(object).str.replace(',',''), errors='coerce'))\ndf.dtypes"
        }, 
        {
            "execution_count": null, 
            "cell_type": "code", 
            "metadata": {}, 
            "outputs": [], 
            "source": ""
        }, 
        {
            "execution_count": null, 
            "cell_type": "code", 
            "metadata": {}, 
            "outputs": [], 
            "source": ""
        }, 
        {
            "execution_count": 70, 
            "cell_type": "code", 
            "metadata": {}, 
            "outputs": [
                {
                    "ename": "AttributeError", 
                    "evalue": "'str' object has no attribute 'astype'", 
                    "traceback": [
                        "\u001b[0;31m---------------------------------------------------------------------------\u001b[0m", 
                        "\u001b[0;31mAttributeError\u001b[0m                            Traceback (most recent call last)", 
                        "\u001b[0;32m<ipython-input-70-9dfb7cbcb27e>\u001b[0m in \u001b[0;36m<module>\u001b[0;34m\u001b[0m\n\u001b[0;32m----> 1\u001b[0;31m \u001b[0mdf\u001b[0m\u001b[0;34m[\u001b[0m\u001b[0;34m'Population'\u001b[0m\u001b[0;34m]\u001b[0m \u001b[0;34m=\u001b[0m \u001b[0mdf\u001b[0m\u001b[0;34m[\u001b[0m\u001b[0;34m'Population'\u001b[0m\u001b[0;34m]\u001b[0m\u001b[0;34m.\u001b[0m\u001b[0mapply\u001b[0m\u001b[0;34m(\u001b[0m\u001b[0;32mlambda\u001b[0m \u001b[0mx\u001b[0m\u001b[0;34m:\u001b[0m \u001b[0mpd\u001b[0m\u001b[0;34m.\u001b[0m\u001b[0mto_numeric\u001b[0m\u001b[0;34m(\u001b[0m\u001b[0mx\u001b[0m\u001b[0;34m.\u001b[0m\u001b[0mastype\u001b[0m\u001b[0;34m(\u001b[0m\u001b[0mstr\u001b[0m\u001b[0;34m)\u001b[0m\u001b[0;34m.\u001b[0m\u001b[0mstr\u001b[0m\u001b[0;34m.\u001b[0m\u001b[0mreplace\u001b[0m\u001b[0;34m(\u001b[0m\u001b[0;34m','\u001b[0m\u001b[0;34m,\u001b[0m\u001b[0;34m''\u001b[0m\u001b[0;34m)\u001b[0m\u001b[0;34m,\u001b[0m \u001b[0merrors\u001b[0m\u001b[0;34m=\u001b[0m\u001b[0;34m'coerce'\u001b[0m\u001b[0;34m)\u001b[0m\u001b[0;34m)\u001b[0m\u001b[0;34m\u001b[0m\u001b[0;34m\u001b[0m\u001b[0m\n\u001b[0m", 
                        "\u001b[0;32m/opt/conda/envs/Python36/lib/python3.6/site-packages/pandas/core/series.py\u001b[0m in \u001b[0;36mapply\u001b[0;34m(self, func, convert_dtype, args, **kwds)\u001b[0m\n\u001b[1;32m   3589\u001b[0m             \u001b[0;32melse\u001b[0m\u001b[0;34m:\u001b[0m\u001b[0;34m\u001b[0m\u001b[0;34m\u001b[0m\u001b[0m\n\u001b[1;32m   3590\u001b[0m                 \u001b[0mvalues\u001b[0m \u001b[0;34m=\u001b[0m \u001b[0mself\u001b[0m\u001b[0;34m.\u001b[0m\u001b[0mastype\u001b[0m\u001b[0;34m(\u001b[0m\u001b[0mobject\u001b[0m\u001b[0;34m)\u001b[0m\u001b[0;34m.\u001b[0m\u001b[0mvalues\u001b[0m\u001b[0;34m\u001b[0m\u001b[0;34m\u001b[0m\u001b[0m\n\u001b[0;32m-> 3591\u001b[0;31m                 \u001b[0mmapped\u001b[0m \u001b[0;34m=\u001b[0m \u001b[0mlib\u001b[0m\u001b[0;34m.\u001b[0m\u001b[0mmap_infer\u001b[0m\u001b[0;34m(\u001b[0m\u001b[0mvalues\u001b[0m\u001b[0;34m,\u001b[0m \u001b[0mf\u001b[0m\u001b[0;34m,\u001b[0m \u001b[0mconvert\u001b[0m\u001b[0;34m=\u001b[0m\u001b[0mconvert_dtype\u001b[0m\u001b[0;34m)\u001b[0m\u001b[0;34m\u001b[0m\u001b[0;34m\u001b[0m\u001b[0m\n\u001b[0m\u001b[1;32m   3592\u001b[0m \u001b[0;34m\u001b[0m\u001b[0m\n\u001b[1;32m   3593\u001b[0m         \u001b[0;32mif\u001b[0m \u001b[0mlen\u001b[0m\u001b[0;34m(\u001b[0m\u001b[0mmapped\u001b[0m\u001b[0;34m)\u001b[0m \u001b[0;32mand\u001b[0m \u001b[0misinstance\u001b[0m\u001b[0;34m(\u001b[0m\u001b[0mmapped\u001b[0m\u001b[0;34m[\u001b[0m\u001b[0;36m0\u001b[0m\u001b[0;34m]\u001b[0m\u001b[0;34m,\u001b[0m \u001b[0mSeries\u001b[0m\u001b[0;34m)\u001b[0m\u001b[0;34m:\u001b[0m\u001b[0;34m\u001b[0m\u001b[0;34m\u001b[0m\u001b[0m\n", 
                        "\u001b[0;32mpandas/_libs/lib.pyx\u001b[0m in \u001b[0;36mpandas._libs.lib.map_infer\u001b[0;34m()\u001b[0m\n", 
                        "\u001b[0;32m<ipython-input-70-9dfb7cbcb27e>\u001b[0m in \u001b[0;36m<lambda>\u001b[0;34m(x)\u001b[0m\n\u001b[0;32m----> 1\u001b[0;31m \u001b[0mdf\u001b[0m\u001b[0;34m[\u001b[0m\u001b[0;34m'Population'\u001b[0m\u001b[0;34m]\u001b[0m \u001b[0;34m=\u001b[0m \u001b[0mdf\u001b[0m\u001b[0;34m[\u001b[0m\u001b[0;34m'Population'\u001b[0m\u001b[0;34m]\u001b[0m\u001b[0;34m.\u001b[0m\u001b[0mapply\u001b[0m\u001b[0;34m(\u001b[0m\u001b[0;32mlambda\u001b[0m \u001b[0mx\u001b[0m\u001b[0;34m:\u001b[0m \u001b[0mpd\u001b[0m\u001b[0;34m.\u001b[0m\u001b[0mto_numeric\u001b[0m\u001b[0;34m(\u001b[0m\u001b[0mx\u001b[0m\u001b[0;34m.\u001b[0m\u001b[0mastype\u001b[0m\u001b[0;34m(\u001b[0m\u001b[0mstr\u001b[0m\u001b[0;34m)\u001b[0m\u001b[0;34m.\u001b[0m\u001b[0mstr\u001b[0m\u001b[0;34m.\u001b[0m\u001b[0mreplace\u001b[0m\u001b[0;34m(\u001b[0m\u001b[0;34m','\u001b[0m\u001b[0;34m,\u001b[0m\u001b[0;34m''\u001b[0m\u001b[0;34m)\u001b[0m\u001b[0;34m,\u001b[0m \u001b[0merrors\u001b[0m\u001b[0;34m=\u001b[0m\u001b[0;34m'coerce'\u001b[0m\u001b[0;34m)\u001b[0m\u001b[0;34m)\u001b[0m\u001b[0;34m\u001b[0m\u001b[0;34m\u001b[0m\u001b[0m\n\u001b[0m", 
                        "\u001b[0;31mAttributeError\u001b[0m: 'str' object has no attribute 'astype'"
                    ], 
                    "output_type": "error"
                }
            ], 
            "source": "df['Population'] = df['Population'].apply(lambda x: pd.to_numeric(x.astype(str).str.replace(',',''), errors='coerce'))"
        }, 
        {
            "execution_count": 54, 
            "cell_type": "code", 
            "metadata": {}, 
            "outputs": [
                {
                    "execution_count": 54, 
                    "metadata": {}, 
                    "data": {
                        "text/plain": "Neighborhood    float64\nPopulation        int64\ndtype: object"
                    }, 
                    "output_type": "execute_result"
                }
            ], 
            "source": "df1.dtypes"
        }, 
        {
            "execution_count": 71, 
            "cell_type": "code", 
            "metadata": {}, 
            "outputs": [
                {
                    "execution_count": 71, 
                    "metadata": {}, 
                    "data": {
                        "text/plain": "Neighborhood    float64\nPopulation        int64\ndtype: object"
                    }, 
                    "output_type": "execute_result"
                }
            ], 
            "source": "pd.to_numeric(df1['Population'])\ndf1.dtypes"
        }, 
        {
            "execution_count": null, 
            "cell_type": "code", 
            "metadata": {}, 
            "outputs": [], 
            "source": ""
        }, 
        {
            "execution_count": null, 
            "cell_type": "code", 
            "metadata": {}, 
            "outputs": [], 
            "source": ""
        }, 
        {
            "execution_count": 56, 
            "cell_type": "code", 
            "metadata": {}, 
            "outputs": [
                {
                    "execution_count": 56, 
                    "metadata": {}, 
                    "data": {
                        "text/html": "<div>\n<style scoped>\n    .dataframe tbody tr th:only-of-type {\n        vertical-align: middle;\n    }\n\n    .dataframe tbody tr th {\n        vertical-align: top;\n    }\n\n    .dataframe thead th {\n        text-align: right;\n    }\n</style>\n<table border=\"1\" class=\"dataframe\">\n  <thead>\n    <tr style=\"text-align: right;\">\n      <th></th>\n      <th>Neighborhood</th>\n      <th>Population</th>\n    </tr>\n  </thead>\n  <tbody>\n    <tr>\n      <th>8</th>\n      <td>NaN</td>\n      <td>2080</td>\n    </tr>\n    <tr>\n      <th>28</th>\n      <td>NaN</td>\n      <td>2510</td>\n    </tr>\n    <tr>\n      <th>29</th>\n      <td>NaN</td>\n      <td>2980</td>\n    </tr>\n    <tr>\n      <th>17</th>\n      <td>NaN</td>\n      <td>7640</td>\n    </tr>\n    <tr>\n      <th>23</th>\n      <td>NaN</td>\n      <td>9930</td>\n    </tr>\n    <tr>\n      <th>24</th>\n      <td>NaN</td>\n      <td>13450</td>\n    </tr>\n    <tr>\n      <th>19</th>\n      <td>NaN</td>\n      <td>20030</td>\n    </tr>\n    <tr>\n      <th>31</th>\n      <td>NaN</td>\n      <td>20960</td>\n    </tr>\n    <tr>\n      <th>16</th>\n      <td>NaN</td>\n      <td>47250</td>\n    </tr>\n    <tr>\n      <th>18</th>\n      <td>NaN</td>\n      <td>48950</td>\n    </tr>\n    <tr>\n      <th>7</th>\n      <td>NaN</td>\n      <td>77280</td>\n    </tr>\n    <tr>\n      <th>13</th>\n      <td>NaN</td>\n      <td>81180</td>\n    </tr>\n    <tr>\n      <th>25</th>\n      <td>NaN</td>\n      <td>87380</td>\n    </tr>\n    <tr>\n      <th>3</th>\n      <td>NaN</td>\n      <td>88490</td>\n    </tr>\n    <tr>\n      <th>10</th>\n      <td>NaN</td>\n      <td>93000</td>\n    </tr>\n    <tr>\n      <th>22</th>\n      <td>NaN</td>\n      <td>97870</td>\n    </tr>\n    <tr>\n      <th>15</th>\n      <td>NaN</td>\n      <td>101420</td>\n    </tr>\n    <tr>\n      <th>11</th>\n      <td>NaN</td>\n      <td>111610</td>\n    </tr>\n    <tr>\n      <th>27</th>\n      <td>NaN</td>\n      <td>117310</td>\n    </tr>\n    <tr>\n      <th>32</th>\n      <td>NaN</td>\n      <td>120480</td>\n    </tr>\n    <tr>\n      <th>6</th>\n      <td>NaN</td>\n      <td>140820</td>\n    </tr>\n    <tr>\n      <th>4</th>\n      <td>NaN</td>\n      <td>144410</td>\n    </tr>\n    <tr>\n      <th>20</th>\n      <td>NaN</td>\n      <td>146920</td>\n    </tr>\n    <tr>\n      <th>5</th>\n      <td>NaN</td>\n      <td>151870</td>\n    </tr>\n    <tr>\n      <th>21</th>\n      <td>NaN</td>\n      <td>161570</td>\n    </tr>\n    <tr>\n      <th>1</th>\n      <td>NaN</td>\n      <td>165710</td>\n    </tr>\n    <tr>\n      <th>9</th>\n      <td>NaN</td>\n      <td>187510</td>\n    </tr>\n    <tr>\n      <th>34</th>\n      <td>NaN</td>\n      <td>214940</td>\n    </tr>\n    <tr>\n      <th>12</th>\n      <td>NaN</td>\n      <td>223010</td>\n    </tr>\n    <tr>\n      <th>26</th>\n      <td>NaN</td>\n      <td>240640</td>\n    </tr>\n    <tr>\n      <th>33</th>\n      <td>NaN</td>\n      <td>252530</td>\n    </tr>\n    <tr>\n      <th>30</th>\n      <td>NaN</td>\n      <td>257110</td>\n    </tr>\n    <tr>\n      <th>14</th>\n      <td>NaN</td>\n      <td>266720</td>\n    </tr>\n    <tr>\n      <th>2</th>\n      <td>NaN</td>\n      <td>281300</td>\n    </tr>\n  </tbody>\n</table>\n</div>", 
                        "text/plain": "    Neighborhood  Population\n8            NaN        2080\n28           NaN        2510\n29           NaN        2980\n17           NaN        7640\n23           NaN        9930\n24           NaN       13450\n19           NaN       20030\n31           NaN       20960\n16           NaN       47250\n18           NaN       48950\n7            NaN       77280\n13           NaN       81180\n25           NaN       87380\n3            NaN       88490\n10           NaN       93000\n22           NaN       97870\n15           NaN      101420\n11           NaN      111610\n27           NaN      117310\n32           NaN      120480\n6            NaN      140820\n4            NaN      144410\n20           NaN      146920\n5            NaN      151870\n21           NaN      161570\n1            NaN      165710\n9            NaN      187510\n34           NaN      214940\n12           NaN      223010\n26           NaN      240640\n33           NaN      252530\n30           NaN      257110\n14           NaN      266720\n2            NaN      281300"
                    }, 
                    "output_type": "execute_result"
                }
            ], 
            "source": "df1.sort_values(by=['Population'], inplace=True)\ndf1"
        }, 
        {
            "execution_count": null, 
            "cell_type": "code", 
            "metadata": {}, 
            "outputs": [], 
            "source": ""
        }, 
        {
            "execution_count": null, 
            "cell_type": "code", 
            "metadata": {}, 
            "outputs": [], 
            "source": ""
        }, 
        {
            "execution_count": 44, 
            "cell_type": "code", 
            "metadata": {}, 
            "outputs": [
                {
                    "execution_count": 44, 
                    "metadata": {}, 
                    "data": {
                        "text/html": "<div>\n<style scoped>\n    .dataframe tbody tr th:only-of-type {\n        vertical-align: middle;\n    }\n\n    .dataframe tbody tr th {\n        vertical-align: top;\n    }\n\n    .dataframe thead th {\n        text-align: right;\n    }\n</style>\n<table border=\"1\" class=\"dataframe\">\n  <thead>\n    <tr style=\"text-align: right;\">\n      <th></th>\n      <th>Neighborhood</th>\n      <th>Population</th>\n    </tr>\n  </thead>\n  <tbody>\n    <tr>\n      <th>15</th>\n      <td>Kallang</td>\n      <td>101,420</td>\n    </tr>\n    <tr>\n      <th>11</th>\n      <td>Geylang</td>\n      <td>111,610</td>\n    </tr>\n    <tr>\n      <th>27</th>\n      <td>Serangoon</td>\n      <td>117,310</td>\n    </tr>\n    <tr>\n      <th>32</th>\n      <td>Toa Payoh</td>\n      <td>120,480</td>\n    </tr>\n    <tr>\n      <th>24</th>\n      <td>Rochor</td>\n      <td>13,450</td>\n    </tr>\n    <tr>\n      <th>6</th>\n      <td>Bukit Panjang</td>\n      <td>140,820</td>\n    </tr>\n    <tr>\n      <th>4</th>\n      <td>Bukit Batok</td>\n      <td>144,410</td>\n    </tr>\n    <tr>\n      <th>20</th>\n      <td>Pasir Ris</td>\n      <td>146,920</td>\n    </tr>\n    <tr>\n      <th>5</th>\n      <td>Bukit Merah</td>\n      <td>151,870</td>\n    </tr>\n    <tr>\n      <th>21</th>\n      <td>Punggol</td>\n      <td>161,570</td>\n    </tr>\n    <tr>\n      <th>1</th>\n      <td>Ang Mo Kio</td>\n      <td>165,710</td>\n    </tr>\n    <tr>\n      <th>9</th>\n      <td>Choa Chu Kang</td>\n      <td>187,510</td>\n    </tr>\n    <tr>\n      <th>8</th>\n      <td>Changi</td>\n      <td>2,080</td>\n    </tr>\n    <tr>\n      <th>28</th>\n      <td>Singapore (Downtown Core)</td>\n      <td>2,510</td>\n    </tr>\n    <tr>\n      <th>29</th>\n      <td>Singapore River</td>\n      <td>2,980</td>\n    </tr>\n    <tr>\n      <th>19</th>\n      <td>Outram</td>\n      <td>20,030</td>\n    </tr>\n    <tr>\n      <th>31</th>\n      <td>Tanglin</td>\n      <td>20,960</td>\n    </tr>\n    <tr>\n      <th>34</th>\n      <td>Yishun</td>\n      <td>214,940</td>\n    </tr>\n    <tr>\n      <th>12</th>\n      <td>Hougang</td>\n      <td>223,010</td>\n    </tr>\n    <tr>\n      <th>26</th>\n      <td>Sengkang</td>\n      <td>240,640</td>\n    </tr>\n    <tr>\n      <th>33</th>\n      <td>Woodlands</td>\n      <td>252,530</td>\n    </tr>\n    <tr>\n      <th>30</th>\n      <td>Tampines</td>\n      <td>257,110</td>\n    </tr>\n    <tr>\n      <th>14</th>\n      <td>Jurong West</td>\n      <td>266,720</td>\n    </tr>\n    <tr>\n      <th>2</th>\n      <td>Bedok</td>\n      <td>281,300</td>\n    </tr>\n    <tr>\n      <th>16</th>\n      <td>Marine Parade</td>\n      <td>47,250</td>\n    </tr>\n    <tr>\n      <th>18</th>\n      <td>Novena</td>\n      <td>48,950</td>\n    </tr>\n    <tr>\n      <th>17</th>\n      <td>Newton</td>\n      <td>7,640</td>\n    </tr>\n    <tr>\n      <th>7</th>\n      <td>Bukit Timah</td>\n      <td>77,280</td>\n    </tr>\n    <tr>\n      <th>13</th>\n      <td>Jurong East</td>\n      <td>81,180</td>\n    </tr>\n    <tr>\n      <th>25</th>\n      <td>Sembawang</td>\n      <td>87,380</td>\n    </tr>\n    <tr>\n      <th>3</th>\n      <td>Bishan</td>\n      <td>88,490</td>\n    </tr>\n    <tr>\n      <th>23</th>\n      <td>River Valley</td>\n      <td>9,930</td>\n    </tr>\n    <tr>\n      <th>10</th>\n      <td>Clementi</td>\n      <td>93,000</td>\n    </tr>\n    <tr>\n      <th>22</th>\n      <td>Queenstown</td>\n      <td>97,870</td>\n    </tr>\n  </tbody>\n</table>\n</div>", 
                        "text/plain": "                 Neighborhood Population\n15                    Kallang    101,420\n11                    Geylang    111,610\n27                  Serangoon    117,310\n32                  Toa Payoh    120,480\n24                     Rochor     13,450\n6               Bukit Panjang    140,820\n4                 Bukit Batok    144,410\n20                  Pasir Ris    146,920\n5                 Bukit Merah    151,870\n21                    Punggol    161,570\n1                  Ang Mo Kio    165,710\n9               Choa Chu Kang    187,510\n8                      Changi      2,080\n28  Singapore (Downtown Core)      2,510\n29            Singapore River      2,980\n19                     Outram     20,030\n31                    Tanglin     20,960\n34                     Yishun    214,940\n12                    Hougang    223,010\n26                   Sengkang    240,640\n33                  Woodlands    252,530\n30                   Tampines    257,110\n14                Jurong West    266,720\n2                       Bedok    281,300\n16              Marine Parade     47,250\n18                     Novena     48,950\n17                     Newton      7,640\n7                 Bukit Timah     77,280\n13                Jurong East     81,180\n25                  Sembawang     87,380\n3                      Bishan     88,490\n23               River Valley      9,930\n10                   Clementi     93,000\n22                 Queenstown     97,870"
                    }, 
                    "output_type": "execute_result"
                }
            ], 
            "source": ""
        }, 
        {
            "execution_count": 45, 
            "cell_type": "code", 
            "metadata": {}, 
            "outputs": [
                {
                    "execution_count": 45, 
                    "metadata": {}, 
                    "data": {
                        "text/plain": "Neighborhood    object\nPopulation      object\ndtype: object"
                    }, 
                    "output_type": "execute_result"
                }
            ], 
            "source": "df.dtypes"
        }, 
        {
            "execution_count": null, 
            "cell_type": "code", 
            "metadata": {}, 
            "outputs": [], 
            "source": ""
        }, 
        {
            "execution_count": null, 
            "cell_type": "code", 
            "metadata": {}, 
            "outputs": [], 
            "source": ""
        }, 
        {
            "execution_count": null, 
            "cell_type": "code", 
            "metadata": {}, 
            "outputs": [], 
            "source": ""
        }, 
        {
            "execution_count": null, 
            "cell_type": "code", 
            "metadata": {}, 
            "outputs": [], 
            "source": ""
        }, 
        {
            "execution_count": 16, 
            "cell_type": "code", 
            "metadata": {}, 
            "outputs": [
                {
                    "execution_count": 16, 
                    "metadata": {}, 
                    "data": {
                        "text/html": "<div>\n<style scoped>\n    .dataframe tbody tr th:only-of-type {\n        vertical-align: middle;\n    }\n\n    .dataframe tbody tr th {\n        vertical-align: top;\n    }\n\n    .dataframe thead th {\n        text-align: right;\n    }\n</style>\n<table border=\"1\" class=\"dataframe\">\n  <thead>\n    <tr style=\"text-align: right;\">\n      <th></th>\n      <th>Postal Code</th>\n      <th>Borough</th>\n      <th>Neighbourhood</th>\n    </tr>\n  </thead>\n  <tbody>\n    <tr>\n      <th>1</th>\n      <td>01</td>\n      <td>01, 02, 03, 04, 05, 06</td>\n      <td>Raffles Place, Cecil, Marina, People's Park</td>\n    </tr>\n    <tr>\n      <th>2</th>\n      <td>02</td>\n      <td>07, 08</td>\n      <td>Anson, Tanjong Pagar</td>\n    </tr>\n    <tr>\n      <th>3</th>\n      <td>03</td>\n      <td>14, 15, 16</td>\n      <td>Bukit Merah, Queenstown, Tiong Bahru</td>\n    </tr>\n    <tr>\n      <th>4</th>\n      <td>04</td>\n      <td>09, 10</td>\n      <td>Telok Blangah, Harbourfront</td>\n    </tr>\n    <tr>\n      <th>5</th>\n      <td>05</td>\n      <td>11, 12, 13</td>\n      <td>Pasir Panjang, Hong Leong Garden, Clementi New...</td>\n    </tr>\n  </tbody>\n</table>\n</div>", 
                        "text/plain": "  Postal Code                 Borough  \\\n1          01  01, 02, 03, 04, 05, 06   \n2          02                  07, 08   \n3          03              14, 15, 16   \n4          04                  09, 10   \n5          05              11, 12, 13   \n\n                                       Neighbourhood  \n1        Raffles Place, Cecil, Marina, People's Park  \n2                               Anson, Tanjong Pagar  \n3               Bukit Merah, Queenstown, Tiong Bahru  \n4                        Telok Blangah, Harbourfront  \n5  Pasir Panjang, Hong Leong Garden, Clementi New...  "
                    }, 
                    "output_type": "execute_result"
                }
            ], 
            "source": "dfNeigh.rename(columns={ 'Postal district':'Postal Code',\n                         'Postal sector':'Borough',\n                         'General location':'Neighbourhood'}, inplace=True)\ndfNeigh.head()"
        }, 
        {
            "execution_count": 17, 
            "cell_type": "code", 
            "metadata": {}, 
            "outputs": [], 
            "source": "# dfCombined = dfNeigh.groupby('Postal Code').agg(lambda x: ','.join(x))\n# dfCombined.head(10)"
        }, 
        {
            "execution_count": 18, 
            "cell_type": "code", 
            "metadata": {}, 
            "outputs": [], 
            "source": "# dfCombined.loc[dfCombined['Neighbourhood']==\"Not assigned\",'Neighbourhood'] = dfCombined.loc[dfCombined['Neighbourhood']==\"Not assigned\",'Borough']\n# dfCombined.head(10)"
        }, 
        {
            "execution_count": 19, 
            "cell_type": "code", 
            "metadata": {}, 
            "outputs": [], 
            "source": "# Reset the index\n# dfFinal = dfCombined.reset_index()\n# Remove the duplicate boroughs\n# dfFinal['Borough']= dfFinal['Borough'].str.replace('nan|[{}\\s]','').str.split(',').apply(set).str.join(',').str.strip(',').str.replace(\",{2,}\",\",\")\n# dfFinal.head(10)"
        }, 
        {
            "execution_count": 21, 
            "cell_type": "code", 
            "metadata": {}, 
            "outputs": [
                {
                    "execution_count": 21, 
                    "metadata": {}, 
                    "data": {
                        "text/plain": "(28, 3)"
                    }, 
                    "output_type": "execute_result"
                }
            ], 
            "source": "dfNeigh.shape"
        }, 
        {
            "execution_count": 27, 
            "cell_type": "code", 
            "metadata": {}, 
            "outputs": [
                {
                    "execution_count": 27, 
                    "metadata": {}, 
                    "data": {
                        "text/html": "<div>\n<style scoped>\n    .dataframe tbody tr th:only-of-type {\n        vertical-align: middle;\n    }\n\n    .dataframe tbody tr th {\n        vertical-align: top;\n    }\n\n    .dataframe thead th {\n        text-align: right;\n    }\n</style>\n<table border=\"1\" class=\"dataframe\">\n  <thead>\n    <tr style=\"text-align: right;\">\n      <th></th>\n      <th>Postal Code</th>\n      <th>Borough</th>\n      <th>Neighbourhood</th>\n    </tr>\n  </thead>\n  <tbody>\n    <tr>\n      <th>1</th>\n      <td>01</td>\n      <td>01, 02, 03, 04, 05, 06</td>\n      <td>Raffles Place, Cecil, Marina, People's Park</td>\n    </tr>\n    <tr>\n      <th>2</th>\n      <td>02</td>\n      <td>07, 08</td>\n      <td>Anson, Tanjong Pagar</td>\n    </tr>\n    <tr>\n      <th>3</th>\n      <td>03</td>\n      <td>14, 15, 16</td>\n      <td>Bukit Merah, Queenstown, Tiong Bahru</td>\n    </tr>\n    <tr>\n      <th>4</th>\n      <td>04</td>\n      <td>09, 10</td>\n      <td>Telok Blangah, Harbourfront</td>\n    </tr>\n    <tr>\n      <th>5</th>\n      <td>05</td>\n      <td>11, 12, 13</td>\n      <td>Pasir Panjang, Hong Leong Garden, Clementi New...</td>\n    </tr>\n    <tr>\n      <th>6</th>\n      <td>06</td>\n      <td>17</td>\n      <td>High Street, Beach Road (part)</td>\n    </tr>\n    <tr>\n      <th>7</th>\n      <td>07</td>\n      <td>18, 19</td>\n      <td>Middle Road, Golden Mile</td>\n    </tr>\n    <tr>\n      <th>8</th>\n      <td>08</td>\n      <td>20, 21</td>\n      <td>Little India, Farrer Park, Jalan Besar, Lavender</td>\n    </tr>\n    <tr>\n      <th>9</th>\n      <td>09</td>\n      <td>22, 23</td>\n      <td>Orchard, Cairnhill, River Valley</td>\n    </tr>\n    <tr>\n      <th>10</th>\n      <td>10</td>\n      <td>24, 25, 26, 27</td>\n      <td>Ardmore, Bukit Timah, Holland Road, Tanglin</td>\n    </tr>\n    <tr>\n      <th>11</th>\n      <td>11</td>\n      <td>28, 29, 30</td>\n      <td>Watten Estate, Novena, Thomson</td>\n    </tr>\n    <tr>\n      <th>12</th>\n      <td>12</td>\n      <td>31, 32, 33</td>\n      <td>Balestier, Toa Payoh, Serangoon</td>\n    </tr>\n    <tr>\n      <th>13</th>\n      <td>13</td>\n      <td>34, 35, 36, 37</td>\n      <td>Macpherson, Braddell</td>\n    </tr>\n    <tr>\n      <th>14</th>\n      <td>14</td>\n      <td>38, 39, 40, 41</td>\n      <td>Geylang, Eunos</td>\n    </tr>\n    <tr>\n      <th>15</th>\n      <td>15</td>\n      <td>42, 43, 44, 45</td>\n      <td>Katong, Joo Chiat, Amber Road</td>\n    </tr>\n    <tr>\n      <th>16</th>\n      <td>16</td>\n      <td>46, 47, 48</td>\n      <td>Bedok, Upper East Coast, Eastwood, Kew Drive</td>\n    </tr>\n    <tr>\n      <th>17</th>\n      <td>17</td>\n      <td>49, 50, 81</td>\n      <td>Loyang, Changi</td>\n    </tr>\n    <tr>\n      <th>18</th>\n      <td>18</td>\n      <td>51, 52</td>\n      <td>Simei, Tampines, Pasir Ris</td>\n    </tr>\n    <tr>\n      <th>19</th>\n      <td>19</td>\n      <td>53, 54, 55, 82</td>\n      <td>Serangoon Garden, Hougang, Punggol</td>\n    </tr>\n    <tr>\n      <th>20</th>\n      <td>20</td>\n      <td>56, 57</td>\n      <td>Bishan, Ang Mo Kio</td>\n    </tr>\n    <tr>\n      <th>21</th>\n      <td>21</td>\n      <td>58, 59</td>\n      <td>Upper Bukit Timah, Clementi Park, Ulu Pandan</td>\n    </tr>\n    <tr>\n      <th>22</th>\n      <td>22</td>\n      <td>60, 61, 62, 63, 64</td>\n      <td>Jurong, Tuas</td>\n    </tr>\n    <tr>\n      <th>23</th>\n      <td>23</td>\n      <td>65, 66, 67, 68</td>\n      <td>Hillview, Dairy Farm, Bukit Panjang, Choa Chu ...</td>\n    </tr>\n    <tr>\n      <th>24</th>\n      <td>24</td>\n      <td>69, 70, 71</td>\n      <td>Lim Chu Kang, Tengah</td>\n    </tr>\n    <tr>\n      <th>25</th>\n      <td>25</td>\n      <td>72, 73</td>\n      <td>Kranji, Woodgrove, Woodlands</td>\n    </tr>\n    <tr>\n      <th>26</th>\n      <td>26</td>\n      <td>77, 78</td>\n      <td>Upper Thomson, Springleaf</td>\n    </tr>\n    <tr>\n      <th>27</th>\n      <td>27</td>\n      <td>75, 76</td>\n      <td>Yishun, Sembawang</td>\n    </tr>\n    <tr>\n      <th>28</th>\n      <td>28</td>\n      <td>79, 80</td>\n      <td>Seletar</td>\n    </tr>\n  </tbody>\n</table>\n</div>", 
                        "text/plain": "   Postal Code                 Borough  \\\n1           01  01, 02, 03, 04, 05, 06   \n2           02                  07, 08   \n3           03              14, 15, 16   \n4           04                  09, 10   \n5           05              11, 12, 13   \n6           06                      17   \n7           07                  18, 19   \n8           08                  20, 21   \n9           09                  22, 23   \n10          10          24, 25, 26, 27   \n11          11              28, 29, 30   \n12          12              31, 32, 33   \n13          13          34, 35, 36, 37   \n14          14          38, 39, 40, 41   \n15          15          42, 43, 44, 45   \n16          16              46, 47, 48   \n17          17              49, 50, 81   \n18          18                  51, 52   \n19          19          53, 54, 55, 82   \n20          20                  56, 57   \n21          21                  58, 59   \n22          22      60, 61, 62, 63, 64   \n23          23          65, 66, 67, 68   \n24          24              69, 70, 71   \n25          25                  72, 73   \n26          26                  77, 78   \n27          27                  75, 76   \n28          28                  79, 80   \n\n                                        Neighbourhood  \n1         Raffles Place, Cecil, Marina, People's Park  \n2                                Anson, Tanjong Pagar  \n3                Bukit Merah, Queenstown, Tiong Bahru  \n4                         Telok Blangah, Harbourfront  \n5   Pasir Panjang, Hong Leong Garden, Clementi New...  \n6                      High Street, Beach Road (part)  \n7                            Middle Road, Golden Mile  \n8    Little India, Farrer Park, Jalan Besar, Lavender  \n9                    Orchard, Cairnhill, River Valley  \n10        Ardmore, Bukit Timah, Holland Road, Tanglin  \n11                     Watten Estate, Novena, Thomson  \n12                    Balestier, Toa Payoh, Serangoon  \n13                               Macpherson, Braddell  \n14                                     Geylang, Eunos  \n15                      Katong, Joo Chiat, Amber Road  \n16       Bedok, Upper East Coast, Eastwood, Kew Drive  \n17                                     Loyang, Changi  \n18                         Simei, Tampines, Pasir Ris  \n19                 Serangoon Garden, Hougang, Punggol  \n20                                 Bishan, Ang Mo Kio  \n21       Upper Bukit Timah, Clementi Park, Ulu Pandan  \n22                                       Jurong, Tuas  \n23  Hillview, Dairy Farm, Bukit Panjang, Choa Chu ...  \n24                               Lim Chu Kang, Tengah  \n25                       Kranji, Woodgrove, Woodlands  \n26                          Upper Thomson, Springleaf  \n27                                  Yishun, Sembawang  \n28                                            Seletar  "
                    }, 
                    "output_type": "execute_result"
                }
            ], 
            "source": "dfNeigh"
        }, 
        {
            "execution_count": 28, 
            "cell_type": "code", 
            "metadata": {}, 
            "outputs": [], 
            "source": "dfNeigh.to_csv('singaporePostalCode.csv', index=False)"
        }, 
        {
            "execution_count": 29, 
            "cell_type": "code", 
            "metadata": {}, 
            "outputs": [], 
            "source": "# dfCombined.rename_axis(\"Postal Code\", axis='index', inplace=True)\n# dfCombined.head()"
        }, 
        {
            "execution_count": 30, 
            "cell_type": "code", 
            "metadata": {}, 
            "outputs": [], 
            "source": "# dfCombined.to_csv('singaporePostalCode.csv', index=False)"
        }, 
        {
            "execution_count": 31, 
            "cell_type": "code", 
            "metadata": {}, 
            "outputs": [
                {
                    "execution_count": 31, 
                    "metadata": {}, 
                    "data": {
                        "text/html": "<div>\n<style scoped>\n    .dataframe tbody tr th:only-of-type {\n        vertical-align: middle;\n    }\n\n    .dataframe tbody tr th {\n        vertical-align: top;\n    }\n\n    .dataframe thead th {\n        text-align: right;\n    }\n</style>\n<table border=\"1\" class=\"dataframe\">\n  <thead>\n    <tr style=\"text-align: right;\">\n      <th></th>\n      <th>Borough</th>\n      <th>Neighbourhood</th>\n      <th>Latitude</th>\n      <th>Longitude</th>\n    </tr>\n    <tr>\n      <th>Postal Code</th>\n      <th></th>\n      <th></th>\n      <th></th>\n      <th></th>\n    </tr>\n  </thead>\n  <tbody>\n    <tr>\n      <th>1</th>\n      <td>01, 02, 03, 04, 05, 06</td>\n      <td>Raffles Place, Cecil, Marina, People's Park</td>\n      <td>1.285495</td>\n      <td>103.850328</td>\n    </tr>\n    <tr>\n      <th>2</th>\n      <td>07, 08</td>\n      <td>Anson, Tanjong Pagar</td>\n      <td>1.276742</td>\n      <td>103.846673</td>\n    </tr>\n    <tr>\n      <th>3</th>\n      <td>14, 15, 16</td>\n      <td>Bukit Merah, Queenstown, Tiong Bahru</td>\n      <td>1.274279</td>\n      <td>103.815424</td>\n    </tr>\n    <tr>\n      <th>4</th>\n      <td>09, 10</td>\n      <td>Telok Blangah, Harbourfront</td>\n      <td>1.275670</td>\n      <td>103.805306</td>\n    </tr>\n    <tr>\n      <th>5</th>\n      <td>11, 12, 13</td>\n      <td>Pasir Panjang, Hong Leong Garden, Clementi New...</td>\n      <td>1.313676</td>\n      <td>103.766229</td>\n    </tr>\n    <tr>\n      <th>6</th>\n      <td>17</td>\n      <td>High Street, Beach Road (part)</td>\n      <td>1.302047</td>\n      <td>103.861548</td>\n    </tr>\n    <tr>\n      <th>7</th>\n      <td>18, 19</td>\n      <td>Middle Road, Golden Mile</td>\n      <td>1.299749</td>\n      <td>103.858188</td>\n    </tr>\n    <tr>\n      <th>8</th>\n      <td>20, 21</td>\n      <td>Little India, Farrer Park, Jalan Besar, Lavender</td>\n      <td>1.304957</td>\n      <td>103.854093</td>\n    </tr>\n    <tr>\n      <th>9</th>\n      <td>22, 23</td>\n      <td>Orchard, Cairnhill, River Valley</td>\n      <td>1.300759</td>\n      <td>103.831382</td>\n    </tr>\n    <tr>\n      <th>10</th>\n      <td>24, 25, 26, 27</td>\n      <td>Ardmore, Bukit Timah, Holland Road, Tanglin</td>\n      <td>1.334203</td>\n      <td>103.782084</td>\n    </tr>\n  </tbody>\n</table>\n</div>", 
                        "text/plain": "                            Borough  \\\nPostal Code                           \n1            01, 02, 03, 04, 05, 06   \n2                            07, 08   \n3                        14, 15, 16   \n4                            09, 10   \n5                        11, 12, 13   \n6                                17   \n7                            18, 19   \n8                            20, 21   \n9                            22, 23   \n10                   24, 25, 26, 27   \n\n                                                 Neighbourhood  Latitude  \\\nPostal Code                                                                \n1                  Raffles Place, Cecil, Marina, People's Park  1.285495   \n2                                         Anson, Tanjong Pagar  1.276742   \n3                         Bukit Merah, Queenstown, Tiong Bahru  1.274279   \n4                                  Telok Blangah, Harbourfront  1.275670   \n5            Pasir Panjang, Hong Leong Garden, Clementi New...  1.313676   \n6                               High Street, Beach Road (part)  1.302047   \n7                                     Middle Road, Golden Mile  1.299749   \n8             Little India, Farrer Park, Jalan Besar, Lavender  1.304957   \n9                             Orchard, Cairnhill, River Valley  1.300759   \n10                 Ardmore, Bukit Timah, Holland Road, Tanglin  1.334203   \n\n              Longitude  \nPostal Code              \n1            103.850328  \n2            103.846673  \n3            103.815424  \n4            103.805306  \n5            103.766229  \n6            103.861548  \n7            103.858188  \n8            103.854093  \n9            103.831382  \n10           103.782084  "
                    }, 
                    "output_type": "execute_result"
                }
            ], 
            "source": "# Get the location from the csv file\n# SgpCoor = 'https://cocl.us/Geospatial_data'\n# !wget -q -O 'singaporeCoor.csv' SgpCoor\ndfSingapore = pd.read_csv('singaporeCoor.csv').set_index(\"Postal Code\")\ndfSingapore.head(10)"
        }, 
        {
            "execution_count": 32, 
            "cell_type": "code", 
            "metadata": {}, 
            "outputs": [], 
            "source": "# dfSingapore = pd.read_csv(\"SingaporeWithCoor.csv\").set_index(\"Borough\")\n# dfSingapore = pd.read_csv(r\"SingaporeWithCoor.csv\")\n# dfSingapore.head()"
        }, 
        {
            "execution_count": 33, 
            "cell_type": "code", 
            "metadata": {}, 
            "outputs": [
                {
                    "output_type": "stream", 
                    "name": "stdout", 
                    "text": "The dataframe has 28 boroughs and 28 neighborhoods.\n"
                }
            ], 
            "source": "print('The dataframe has {} boroughs and {} neighborhoods.'.format(\n        len(dfSingapore['Borough'].unique()),\n        dfSingapore.shape[0]\n    )\n)"
        }, 
        {
            "execution_count": 34, 
            "cell_type": "code", 
            "metadata": {}, 
            "outputs": [
                {
                    "output_type": "stream", 
                    "name": "stdout", 
                    "text": "The geograpical coordinate of Singapore are 1.3408528, 103.878446863736.\n"
                }
            ], 
            "source": "# Get the Singapore latitude and longitude\naddress = 'Singapore, Singapore'\n\ngeolocator = Nominatim(user_agent=\"ny_explorer\")\nlocation = geolocator.geocode(address)\nlatitude = location.latitude\nlongitude = location.longitude\nprint('The geograpical coordinate of Singapore are {}, {}.'.format(latitude, longitude))"
        }, 
        {
            "execution_count": 35, 
            "cell_type": "code", 
            "metadata": {}, 
            "outputs": [
                {
                    "execution_count": 35, 
                    "metadata": {}, 
                    "data": {
                        "text/html": "<div style=\"width:100%;\"><div style=\"position:relative;width:100%;height:0;padding-bottom:60%;\"><iframe src=\"data:text/html;charset=utf-8;base64,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\" style=\"position:absolute;width:100%;height:100%;left:0;top:0;border:none !important;\" allowfullscreen webkitallowfullscreen mozallowfullscreen></iframe></div></div>", 
                        "text/plain": "<folium.folium.Map at 0x7f9889c26f98>"
                    }, 
                    "output_type": "execute_result"
                }
            ], 
            "source": "# create map of Singapore using latitude and longitude values\nmap_Singapore = folium.Map(location=[latitude, longitude], zoom_start=11)\n\n# add markers to map\nfor lat, lng, borough, dfSingapore in zip(dfSingapore['Latitude'], dfSingapore['Longitude'], dfSingapore['Borough'], dfSingapore['Neighbourhood']):\n    label = '{}, {}'.format(dfSingapore, borough)\n    label = folium.Popup(label, parse_html=True)\n    folium.CircleMarker(\n        [lat, lng],\n        radius=5,\n        popup=label,\n        color='blue',\n        fill=True,\n        fill_color='#3186cc',\n        fill_opacity=0.7,\n        parse_html=False).add_to(map_Singapore)  \n    \nmap_Singapore"
        }, 
        {
            "source": "- For this task, I will just reduce the our target analysis to Neighbohoods in East,West and Central Singapore only. Lets just take portion of dataframe where Boroughs contain word Singapore.", 
            "cell_type": "markdown", 
            "metadata": {}
        }, 
        {
            "execution_count": 36, 
            "cell_type": "code", 
            "metadata": {}, 
            "outputs": [], 
            "source": "# dfSingapore = pd.read_csv(\"SingaporeWithCoor.csv\").set_index(\"Borough\")\n# dfSingapore = pd.read_csv(r\"SingaporeWithCoor.csv\")\n# dfSingapore.head()"
        }, 
        {
            "execution_count": 37, 
            "cell_type": "code", 
            "metadata": {}, 
            "outputs": [], 
            "source": "# dfSGP = dfSingapore[dfSingapore['Neighbourhood'].str.contains('Seletar')].reset_index(drop=True)\n# dfSGP.head()"
        }, 
        {
            "execution_count": 40, 
            "cell_type": "code", 
            "metadata": {}, 
            "outputs": [
                {
                    "output_type": "stream", 
                    "name": "stdout", 
                    "text": "The geograpical coordinate of Singapore are 1.3408528, 103.878446863736.\n"
                }
            ], 
            "source": "# Get the Singapore latitude and longitude\naddress = 'Singapore, Singapore'\n\ngeolocaSGP = Nominatim(user_agent=\"ny_explorer\")\nlocation = geolocator.geocode(address)\nlatitude = location.latitude\nlongitude = location.longitude\nprint('The geograpical coordinate of Singapore are {}, {}.'.format(latitude, longitude))"
        }, 
        {
            "execution_count": 41, 
            "cell_type": "code", 
            "metadata": {}, 
            "outputs": [
                {
                    "ename": "TypeError", 
                    "evalue": "string indices must be integers", 
                    "traceback": [
                        "\u001b[0;31m---------------------------------------------------------------------------\u001b[0m", 
                        "\u001b[0;31mTypeError\u001b[0m                                 Traceback (most recent call last)", 
                        "\u001b[0;32m<ipython-input-41-ffff5ef811b8>\u001b[0m in \u001b[0;36m<module>\u001b[0;34m\u001b[0m\n\u001b[1;32m      3\u001b[0m \u001b[0;34m\u001b[0m\u001b[0m\n\u001b[1;32m      4\u001b[0m \u001b[0;31m# add markers to map\u001b[0m\u001b[0;34m\u001b[0m\u001b[0;34m\u001b[0m\u001b[0;34m\u001b[0m\u001b[0m\n\u001b[0;32m----> 5\u001b[0;31m \u001b[0;32mfor\u001b[0m \u001b[0mlat\u001b[0m\u001b[0;34m,\u001b[0m \u001b[0mlng\u001b[0m\u001b[0;34m,\u001b[0m \u001b[0mborough\u001b[0m\u001b[0;34m,\u001b[0m \u001b[0mdfSingapore\u001b[0m \u001b[0;32min\u001b[0m \u001b[0mzip\u001b[0m\u001b[0;34m(\u001b[0m\u001b[0mdfSingapore\u001b[0m\u001b[0;34m[\u001b[0m\u001b[0;34m'Latitude'\u001b[0m\u001b[0;34m]\u001b[0m\u001b[0;34m,\u001b[0m \u001b[0mdfSingapore\u001b[0m\u001b[0;34m[\u001b[0m\u001b[0;34m'Longitude'\u001b[0m\u001b[0;34m]\u001b[0m\u001b[0;34m,\u001b[0m \u001b[0mdfSingapore\u001b[0m\u001b[0;34m[\u001b[0m\u001b[0;34m'Borough'\u001b[0m\u001b[0;34m]\u001b[0m\u001b[0;34m,\u001b[0m \u001b[0mdfSingapore\u001b[0m\u001b[0;34m[\u001b[0m\u001b[0;34m'Neighbourhood'\u001b[0m\u001b[0;34m]\u001b[0m\u001b[0;34m)\u001b[0m\u001b[0;34m:\u001b[0m\u001b[0;34m\u001b[0m\u001b[0;34m\u001b[0m\u001b[0m\n\u001b[0m\u001b[1;32m      6\u001b[0m     \u001b[0mlabel\u001b[0m \u001b[0;34m=\u001b[0m \u001b[0;34m'{}, {}'\u001b[0m\u001b[0;34m.\u001b[0m\u001b[0mformat\u001b[0m\u001b[0;34m(\u001b[0m\u001b[0mdfSingapore\u001b[0m\u001b[0;34m,\u001b[0m \u001b[0mborough\u001b[0m\u001b[0;34m)\u001b[0m\u001b[0;34m\u001b[0m\u001b[0;34m\u001b[0m\u001b[0m\n\u001b[1;32m      7\u001b[0m     \u001b[0mlabel\u001b[0m \u001b[0;34m=\u001b[0m \u001b[0mfolium\u001b[0m\u001b[0;34m.\u001b[0m\u001b[0mPopup\u001b[0m\u001b[0;34m(\u001b[0m\u001b[0mlabel\u001b[0m\u001b[0;34m,\u001b[0m \u001b[0mparse_html\u001b[0m\u001b[0;34m=\u001b[0m\u001b[0;32mTrue\u001b[0m\u001b[0;34m)\u001b[0m\u001b[0;34m\u001b[0m\u001b[0;34m\u001b[0m\u001b[0m\n", 
                        "\u001b[0;31mTypeError\u001b[0m: string indices must be integers"
                    ], 
                    "output_type": "error"
                }
            ], 
            "source": "# create map of Singapore using latitude and longitude values\nmap_Singapore = folium.Map(location=[latitude, longitude], zoom_start=11)\n\n# add markers to map\nfor lat, lng, borough, dfSingapore in zip(dfSingapore['Latitude'], dfSingapore['Longitude'], dfSingapore['Borough'], dfSingapore['Neighbourhood']):\n    label = '{}, {}'.format(dfSingapore, borough)\n    label = folium.Popup(label, parse_html=True)\n    folium.CircleMarker(\n        [lat, lng],\n        radius=5,\n        popup=label,\n        color='blue',\n        fill=True,\n        fill_color='#3186cc',\n        fill_opacity=0.7,\n        parse_html=False).add_to(map_Singapore)  \n    \nmap_Singapore"
        }, 
        {
            "source": "### Define Foursquare Credentials and Version", 
            "cell_type": "markdown", 
            "metadata": {}
        }, 
        {
            "execution_count": 44, 
            "cell_type": "code", 
            "metadata": {}, 
            "outputs": [
                {
                    "output_type": "stream", 
                    "name": "stdout", 
                    "text": "Your credentails:\nCLIENT_ID: AD1LGMPNUFZ1S1ZQEWBQZFB1RDJ4XGWOGPIHZLJAZFHH31OP\nCLIENT_SECRET:OGGOSAT5W1G5WOGKPNRLQJD4S5JUPRUV0WK24MALHZ2AKBLR\n"
                }
            ], 
            "source": "CLIENT_ID = 'AD1LGMPNUFZ1S1ZQEWBQZFB1RDJ4XGWOGPIHZLJAZFHH31OP' # your Foursquare ID\nCLIENT_SECRET = 'OGGOSAT5W1G5WOGKPNRLQJD4S5JUPRUV0WK24MALHZ2AKBLR' # your Foursquare Secret\nVERSION = '20180605' # Foursquare API version\n\nprint('Your credentails:')\nprint('CLIENT_ID: ' + CLIENT_ID)\nprint('CLIENT_SECRET:' + CLIENT_SECRET)"
        }, 
        {
            "source": "### Let's explore the first neighborhood in our dataframe", 
            "cell_type": "markdown", 
            "metadata": {}
        }, 
        {
            "execution_count": 45, 
            "cell_type": "code", 
            "metadata": {}, 
            "outputs": [
                {
                    "ename": "AttributeError", 
                    "evalue": "'str' object has no attribute 'loc'", 
                    "traceback": [
                        "\u001b[0;31m---------------------------------------------------------------------------\u001b[0m", 
                        "\u001b[0;31mAttributeError\u001b[0m                            Traceback (most recent call last)", 
                        "\u001b[0;32m<ipython-input-45-7bb13df0efa9>\u001b[0m in \u001b[0;36m<module>\u001b[0;34m\u001b[0m\n\u001b[1;32m      1\u001b[0m \u001b[0;31m# Get the neighbourhood's name\u001b[0m\u001b[0;34m\u001b[0m\u001b[0;34m\u001b[0m\u001b[0;34m\u001b[0m\u001b[0m\n\u001b[0;32m----> 2\u001b[0;31m \u001b[0mdfSingapore\u001b[0m\u001b[0;34m.\u001b[0m\u001b[0mloc\u001b[0m\u001b[0;34m[\u001b[0m\u001b[0;36m0\u001b[0m\u001b[0;34m,\u001b[0m \u001b[0;34m'Neighbourhood'\u001b[0m\u001b[0;34m]\u001b[0m\u001b[0;34m\u001b[0m\u001b[0;34m\u001b[0m\u001b[0m\n\u001b[0m", 
                        "\u001b[0;31mAttributeError\u001b[0m: 'str' object has no attribute 'loc'"
                    ], 
                    "output_type": "error"
                }
            ], 
            "source": "# Get the neighbourhood's name\ndfSingapore.loc[0, 'Neighbourhood']"
        }, 
        {
            "execution_count": 49, 
            "cell_type": "code", 
            "metadata": {}, 
            "outputs": [
                {
                    "ename": "AttributeError", 
                    "evalue": "'str' object has no attribute 'loc'", 
                    "traceback": [
                        "\u001b[0;31m---------------------------------------------------------------------------\u001b[0m", 
                        "\u001b[0;31mAttributeError\u001b[0m                            Traceback (most recent call last)", 
                        "\u001b[0;32m<ipython-input-49-2f0bb1148093>\u001b[0m in \u001b[0;36m<module>\u001b[0;34m\u001b[0m\n\u001b[1;32m      1\u001b[0m \u001b[0;31m# Get the neighborhood's latitude and longitude values.\u001b[0m\u001b[0;34m\u001b[0m\u001b[0;34m\u001b[0m\u001b[0;34m\u001b[0m\u001b[0m\n\u001b[0;32m----> 2\u001b[0;31m \u001b[0mneighbourhood_latitude\u001b[0m \u001b[0;34m=\u001b[0m \u001b[0mdfSingapore\u001b[0m\u001b[0;34m.\u001b[0m\u001b[0mloc\u001b[0m\u001b[0;34m[\u001b[0m\u001b[0;36m0\u001b[0m\u001b[0;34m,\u001b[0m \u001b[0;34m'Latitude'\u001b[0m\u001b[0;34m]\u001b[0m \u001b[0;31m# neighborhood latitude value\u001b[0m\u001b[0;34m\u001b[0m\u001b[0;34m\u001b[0m\u001b[0m\n\u001b[0m\u001b[1;32m      3\u001b[0m \u001b[0mneighbourhood_longitude\u001b[0m \u001b[0;34m=\u001b[0m \u001b[0mdfSingapore\u001b[0m\u001b[0;34m.\u001b[0m\u001b[0mloc\u001b[0m\u001b[0;34m[\u001b[0m\u001b[0;36m0\u001b[0m\u001b[0;34m,\u001b[0m \u001b[0;34m'Longitude'\u001b[0m\u001b[0;34m]\u001b[0m \u001b[0;31m# neighborhood longitude value\u001b[0m\u001b[0;34m\u001b[0m\u001b[0;34m\u001b[0m\u001b[0m\n\u001b[1;32m      4\u001b[0m \u001b[0;34m\u001b[0m\u001b[0m\n\u001b[1;32m      5\u001b[0m \u001b[0mneighbourhood_name\u001b[0m \u001b[0;34m=\u001b[0m \u001b[0mdfSingapore\u001b[0m\u001b[0;34m.\u001b[0m\u001b[0mloc\u001b[0m\u001b[0;34m[\u001b[0m\u001b[0;36m0\u001b[0m\u001b[0;34m,\u001b[0m \u001b[0;34m'Neighbourhood'\u001b[0m\u001b[0;34m]\u001b[0m \u001b[0;31m# neighborhood name\u001b[0m\u001b[0;34m\u001b[0m\u001b[0;34m\u001b[0m\u001b[0m\n", 
                        "\u001b[0;31mAttributeError\u001b[0m: 'str' object has no attribute 'loc'"
                    ], 
                    "output_type": "error"
                }
            ], 
            "source": "# Get the neighborhood's latitude and longitude values.\nneighbourhood_latitude = dfSingapore.loc[0, 'Latitude'] # neighborhood latitude value\nneighbourhood_longitude = dfSingapore.loc[0, 'Longitude'] # neighborhood longitude value\n\nneighbourhood_name = dfSingapore.loc[0, 'Neighbourhood'] # neighborhood name\n\nprint('Latitude and longitude values of {} are {}, {}.'.format(neighbourhood_name, \n                                                               neighbourhood_latitude, \n                                                               neighbourhood_longitude))"
        }, 
        {
            "source": "### Now, let's get the top 100 venues that are in the Beaches within a radius of 500 meters.", 
            "cell_type": "markdown", 
            "metadata": {}
        }, 
        {
            "execution_count": 50, 
            "cell_type": "code", 
            "metadata": {}, 
            "outputs": [
                {
                    "ename": "NameError", 
                    "evalue": "name 'neighbourhood_latitude' is not defined", 
                    "traceback": [
                        "\u001b[0;31m---------------------------------------------------------------------------\u001b[0m", 
                        "\u001b[0;31mNameError\u001b[0m                                 Traceback (most recent call last)", 
                        "\u001b[0;32m<ipython-input-50-f80984894532>\u001b[0m in \u001b[0;36m<module>\u001b[0;34m\u001b[0m\n\u001b[1;32m      7\u001b[0m     \u001b[0mCLIENT_SECRET\u001b[0m\u001b[0;34m,\u001b[0m\u001b[0;34m\u001b[0m\u001b[0;34m\u001b[0m\u001b[0m\n\u001b[1;32m      8\u001b[0m     \u001b[0mVERSION\u001b[0m\u001b[0;34m,\u001b[0m\u001b[0;34m\u001b[0m\u001b[0;34m\u001b[0m\u001b[0m\n\u001b[0;32m----> 9\u001b[0;31m     \u001b[0mneighbourhood_latitude\u001b[0m\u001b[0;34m,\u001b[0m\u001b[0;34m\u001b[0m\u001b[0;34m\u001b[0m\u001b[0m\n\u001b[0m\u001b[1;32m     10\u001b[0m     \u001b[0mneighbourhood_longitude\u001b[0m\u001b[0;34m,\u001b[0m\u001b[0;34m\u001b[0m\u001b[0;34m\u001b[0m\u001b[0m\n\u001b[1;32m     11\u001b[0m     \u001b[0mradius\u001b[0m\u001b[0;34m,\u001b[0m\u001b[0;34m\u001b[0m\u001b[0;34m\u001b[0m\u001b[0m\n", 
                        "\u001b[0;31mNameError\u001b[0m: name 'neighbourhood_latitude' is not defined"
                    ], 
                    "output_type": "error"
                }
            ], 
            "source": "LIMIT = 100  # limit of number of venues returned by Foursquare API\nradius = 500 # define radius\n\n# create URL\nurl = 'https://api.foursquare.com/v2/venues/explore?&client_id={}&client_secret={}&v={}&ll={},{}&radius={}&limit={}'.format(\n    CLIENT_ID, \n    CLIENT_SECRET, \n    VERSION, \n    neighbourhood_latitude, \n    neighbourhood_longitude, \n    radius, \n    LIMIT)\nurl # display URL"
        }, 
        {
            "execution_count": 51, 
            "cell_type": "code", 
            "metadata": {}, 
            "outputs": [
                {
                    "ename": "NameError", 
                    "evalue": "name 'url' is not defined", 
                    "traceback": [
                        "\u001b[0;31m---------------------------------------------------------------------------\u001b[0m", 
                        "\u001b[0;31mNameError\u001b[0m                                 Traceback (most recent call last)", 
                        "\u001b[0;32m<ipython-input-51-c9a0a62e0704>\u001b[0m in \u001b[0;36m<module>\u001b[0;34m\u001b[0m\n\u001b[1;32m      1\u001b[0m \u001b[0;31m# Send the GET request and examine the results\u001b[0m\u001b[0;34m\u001b[0m\u001b[0;34m\u001b[0m\u001b[0;34m\u001b[0m\u001b[0m\n\u001b[0;32m----> 2\u001b[0;31m \u001b[0mresults\u001b[0m \u001b[0;34m=\u001b[0m \u001b[0mrequests\u001b[0m\u001b[0;34m.\u001b[0m\u001b[0mget\u001b[0m\u001b[0;34m(\u001b[0m\u001b[0murl\u001b[0m\u001b[0;34m)\u001b[0m\u001b[0;34m.\u001b[0m\u001b[0mjson\u001b[0m\u001b[0;34m(\u001b[0m\u001b[0;34m)\u001b[0m\u001b[0;34m\u001b[0m\u001b[0;34m\u001b[0m\u001b[0m\n\u001b[0m\u001b[1;32m      3\u001b[0m \u001b[0mresults\u001b[0m\u001b[0;34m\u001b[0m\u001b[0;34m\u001b[0m\u001b[0m\n", 
                        "\u001b[0;31mNameError\u001b[0m: name 'url' is not defined"
                    ], 
                    "output_type": "error"
                }
            ], 
            "source": "# Send the GET request and examine the results\nresults = requests.get(url).json()\nresults"
        }, 
        {
            "source": "### All the information is in the items key. Let's borrow the get_category_type function from the Foursquare lab.", 
            "cell_type": "markdown", 
            "metadata": {}
        }, 
        {
            "execution_count": 52, 
            "cell_type": "code", 
            "metadata": {}, 
            "outputs": [], 
            "source": "# function that extracts the category of the venue\ndef get_category_type(row):\n    try:\n        categories_list = row['categories']\n    except:\n        categories_list = row['venue.categories']\n        \n    if len(categories_list) == 0:\n        return None\n    else:\n        return categories_list[0]['name']"
        }, 
        {
            "source": "### Now we are ready to clean the json and structure it into a pandas dataframe.", 
            "cell_type": "markdown", 
            "metadata": {}
        }, 
        {
            "execution_count": 53, 
            "cell_type": "code", 
            "metadata": {}, 
            "outputs": [
                {
                    "ename": "NameError", 
                    "evalue": "name 'results' is not defined", 
                    "traceback": [
                        "\u001b[0;31m---------------------------------------------------------------------------\u001b[0m", 
                        "\u001b[0;31mNameError\u001b[0m                                 Traceback (most recent call last)", 
                        "\u001b[0;32m<ipython-input-53-561c05f0fdd1>\u001b[0m in \u001b[0;36m<module>\u001b[0;34m\u001b[0m\n\u001b[0;32m----> 1\u001b[0;31m \u001b[0mvenues\u001b[0m \u001b[0;34m=\u001b[0m \u001b[0mresults\u001b[0m\u001b[0;34m[\u001b[0m\u001b[0;34m'response'\u001b[0m\u001b[0;34m]\u001b[0m\u001b[0;34m[\u001b[0m\u001b[0;34m'groups'\u001b[0m\u001b[0;34m]\u001b[0m\u001b[0;34m[\u001b[0m\u001b[0;36m0\u001b[0m\u001b[0;34m]\u001b[0m\u001b[0;34m[\u001b[0m\u001b[0;34m'items'\u001b[0m\u001b[0;34m]\u001b[0m\u001b[0;34m\u001b[0m\u001b[0;34m\u001b[0m\u001b[0m\n\u001b[0m\u001b[1;32m      2\u001b[0m \u001b[0;34m\u001b[0m\u001b[0m\n\u001b[1;32m      3\u001b[0m \u001b[0mnearby_venues\u001b[0m \u001b[0;34m=\u001b[0m \u001b[0mjson_normalize\u001b[0m\u001b[0;34m(\u001b[0m\u001b[0mvenues\u001b[0m\u001b[0;34m)\u001b[0m \u001b[0;31m# flatten JSON\u001b[0m\u001b[0;34m\u001b[0m\u001b[0;34m\u001b[0m\u001b[0m\n\u001b[1;32m      4\u001b[0m \u001b[0;34m\u001b[0m\u001b[0m\n\u001b[1;32m      5\u001b[0m \u001b[0;31m# filter columns\u001b[0m\u001b[0;34m\u001b[0m\u001b[0;34m\u001b[0m\u001b[0;34m\u001b[0m\u001b[0m\n", 
                        "\u001b[0;31mNameError\u001b[0m: name 'results' is not defined"
                    ], 
                    "output_type": "error"
                }
            ], 
            "source": "venues = results['response']['groups'][0]['items']\n    \nnearby_venues = json_normalize(venues) # flatten JSON\n\n# filter columns\nfiltered_columns = ['venue.name', 'venue.categories', 'venue.location.lat', 'venue.location.lng']\nnearby_venues =nearby_venues.loc[:, filtered_columns]\n\n# filter the category for each row\nnearby_venues['venue.categories'] = nearby_venues.apply(get_category_type, axis=1)\n\n# clean columns\nnearby_venues.columns = [col.split(\".\")[-1] for col in nearby_venues.columns]\n\nnearby_venues.head()"
        }, 
        {
            "execution_count": 54, 
            "cell_type": "code", 
            "metadata": {}, 
            "outputs": [
                {
                    "ename": "NameError", 
                    "evalue": "name 'nearby_venues' is not defined", 
                    "traceback": [
                        "\u001b[0;31m---------------------------------------------------------------------------\u001b[0m", 
                        "\u001b[0;31mNameError\u001b[0m                                 Traceback (most recent call last)", 
                        "\u001b[0;32m<ipython-input-54-8d3c8155afff>\u001b[0m in \u001b[0;36m<module>\u001b[0;34m\u001b[0m\n\u001b[0;32m----> 1\u001b[0;31m \u001b[0mprint\u001b[0m\u001b[0;34m(\u001b[0m\u001b[0;34m'{} venues were returned by Foursquare.'\u001b[0m\u001b[0;34m.\u001b[0m\u001b[0mformat\u001b[0m\u001b[0;34m(\u001b[0m\u001b[0mnearby_venues\u001b[0m\u001b[0;34m.\u001b[0m\u001b[0mshape\u001b[0m\u001b[0;34m[\u001b[0m\u001b[0;36m0\u001b[0m\u001b[0;34m]\u001b[0m\u001b[0;34m)\u001b[0m\u001b[0;34m)\u001b[0m\u001b[0;34m\u001b[0m\u001b[0;34m\u001b[0m\u001b[0m\n\u001b[0m", 
                        "\u001b[0;31mNameError\u001b[0m: name 'nearby_venues' is not defined"
                    ], 
                    "output_type": "error"
                }
            ], 
            "source": "print('{} venues were returned by Foursquare.'.format(nearby_venues.shape[0]))"
        }, 
        {
            "source": "# 2. Explore Neighbourhoods in Singapore\n### Let's create a function to repeat the same process to all the neighbourhoods in Singapore", 
            "cell_type": "markdown", 
            "metadata": {}
        }, 
        {
            "execution_count": 55, 
            "cell_type": "code", 
            "metadata": {}, 
            "outputs": [], 
            "source": "def getNearbyVenues(names, latitudes, longitudes, radius=500):\n    \n    venues_list=[]\n    for name, lat, lng in zip(names, latitudes, longitudes):\n        print(name)\n            \n        # create the API request URL\n        url = 'https://api.foursquare.com/v2/venues/explore?&client_id={}&client_secret={}&v={}&ll={},{}&radius={}&limit={}'.format(\n            CLIENT_ID, \n            CLIENT_SECRET, \n            VERSION, \n            lat, \n            lng, \n            radius, \n            LIMIT)\n            \n        # make the GET request\n        results = requests.get(url).json()[\"response\"]['groups'][0]['items']\n        \n        # return only relevant information for each nearby venue\n        venues_list.append([(\n            name, \n            lat, \n            lng, \n            v['venue']['name'], \n            v['venue']['location']['lat'], \n            v['venue']['location']['lng'],  \n            v['venue']['categories'][0]['name']) for v in results])\n\n    nearby_venues = pd.DataFrame([item for venue_list in venues_list for item in venue_list])\n    nearby_venues.columns = ['Neighbourhood', \n                  'Neighbourhood Latitude', \n                  'Neighbourhood Longitude', \n                  'Venue', \n                  'Venue Latitude', \n                  'Venue Longitude', \n                  'Venue Category']\n    \n    return(nearby_venues)"
        }, 
        {
            "source": "#### Now write the code to run the above function on each neighbourhood and create a new dataframe called *SingaporeVenues*.", 
            "cell_type": "markdown", 
            "metadata": {}
        }, 
        {
            "execution_count": 56, 
            "cell_type": "code", 
            "metadata": {}, 
            "outputs": [
                {
                    "ename": "NameError", 
                    "evalue": "name 'dfSGP' is not defined", 
                    "traceback": [
                        "\u001b[0;31m---------------------------------------------------------------------------\u001b[0m", 
                        "\u001b[0;31mNameError\u001b[0m                                 Traceback (most recent call last)", 
                        "\u001b[0;32m<ipython-input-56-b89e13778126>\u001b[0m in \u001b[0;36m<module>\u001b[0;34m\u001b[0m\n\u001b[0;32m----> 1\u001b[0;31m SingaporeVenues = getNearbyVenues(names=dfSGP['Neighbourhood'],\n\u001b[0m\u001b[1;32m      2\u001b[0m                                    \u001b[0mlatitudes\u001b[0m\u001b[0;34m=\u001b[0m\u001b[0mdfSGP\u001b[0m\u001b[0;34m[\u001b[0m\u001b[0;34m'Latitude'\u001b[0m\u001b[0;34m]\u001b[0m\u001b[0;34m,\u001b[0m\u001b[0;34m\u001b[0m\u001b[0;34m\u001b[0m\u001b[0m\n\u001b[1;32m      3\u001b[0m                                    \u001b[0mlongitudes\u001b[0m\u001b[0;34m=\u001b[0m\u001b[0mdfSGP\u001b[0m\u001b[0;34m[\u001b[0m\u001b[0;34m'Longitude'\u001b[0m\u001b[0;34m]\u001b[0m\u001b[0;34m\u001b[0m\u001b[0;34m\u001b[0m\u001b[0m\n\u001b[1;32m      4\u001b[0m                                   )\n", 
                        "\u001b[0;31mNameError\u001b[0m: name 'dfSGP' is not defined"
                    ], 
                    "output_type": "error"
                }
            ], 
            "source": "SingaporeVenues = getNearbyVenues(names=dfSGP['Neighbourhood'],\n                                   latitudes=dfSGP['Latitude'],\n                                   longitudes=dfSGP['Longitude']\n                                  )"
        }, 
        {
            "source": "### Let's check the size of the resulting dataframe", 
            "cell_type": "markdown", 
            "metadata": {}
        }, 
        {
            "execution_count": 57, 
            "cell_type": "code", 
            "metadata": {}, 
            "outputs": [
                {
                    "ename": "NameError", 
                    "evalue": "name 'SingaporeVenues' is not defined", 
                    "traceback": [
                        "\u001b[0;31m---------------------------------------------------------------------------\u001b[0m", 
                        "\u001b[0;31mNameError\u001b[0m                                 Traceback (most recent call last)", 
                        "\u001b[0;32m<ipython-input-57-39f0b6bbb05e>\u001b[0m in \u001b[0;36m<module>\u001b[0;34m\u001b[0m\n\u001b[0;32m----> 1\u001b[0;31m \u001b[0mprint\u001b[0m\u001b[0;34m(\u001b[0m\u001b[0mSingaporeVenues\u001b[0m\u001b[0;34m.\u001b[0m\u001b[0mshape\u001b[0m\u001b[0;34m)\u001b[0m\u001b[0;34m\u001b[0m\u001b[0;34m\u001b[0m\u001b[0m\n\u001b[0m\u001b[1;32m      2\u001b[0m \u001b[0mSingaporeVenues\u001b[0m\u001b[0;34m.\u001b[0m\u001b[0mhead\u001b[0m\u001b[0;34m(\u001b[0m\u001b[0;34m)\u001b[0m\u001b[0;34m\u001b[0m\u001b[0;34m\u001b[0m\u001b[0m\n", 
                        "\u001b[0;31mNameError\u001b[0m: name 'SingaporeVenues' is not defined"
                    ], 
                    "output_type": "error"
                }
            ], 
            "source": "print(SingaporeVenues.shape)\nSingaporeVenues.head()"
        }, 
        {
            "execution_count": 58, 
            "cell_type": "code", 
            "metadata": {}, 
            "outputs": [
                {
                    "ename": "NameError", 
                    "evalue": "name 'SingaporeVenues' is not defined", 
                    "traceback": [
                        "\u001b[0;31m---------------------------------------------------------------------------\u001b[0m", 
                        "\u001b[0;31mNameError\u001b[0m                                 Traceback (most recent call last)", 
                        "\u001b[0;32m<ipython-input-58-c380208a7300>\u001b[0m in \u001b[0;36m<module>\u001b[0;34m\u001b[0m\n\u001b[0;32m----> 1\u001b[0;31m \u001b[0mSingaporeVenues\u001b[0m\u001b[0;34m.\u001b[0m\u001b[0mgroupby\u001b[0m\u001b[0;34m(\u001b[0m\u001b[0;34m'Neighbourhood'\u001b[0m\u001b[0;34m)\u001b[0m\u001b[0;34m.\u001b[0m\u001b[0mcount\u001b[0m\u001b[0;34m(\u001b[0m\u001b[0;34m)\u001b[0m\u001b[0;34m\u001b[0m\u001b[0;34m\u001b[0m\u001b[0m\n\u001b[0m", 
                        "\u001b[0;31mNameError\u001b[0m: name 'SingaporeVenues' is not defined"
                    ], 
                    "output_type": "error"
                }
            ], 
            "source": "SingaporeVenues.groupby('Neighbourhood').count()"
        }, 
        {
            "source": "#### Let's find out how many unique categories can be curated from all the returned venues", 
            "cell_type": "markdown", 
            "metadata": {}
        }, 
        {
            "execution_count": 59, 
            "cell_type": "code", 
            "metadata": {}, 
            "outputs": [
                {
                    "ename": "NameError", 
                    "evalue": "name 'SingaporeVenues' is not defined", 
                    "traceback": [
                        "\u001b[0;31m---------------------------------------------------------------------------\u001b[0m", 
                        "\u001b[0;31mNameError\u001b[0m                                 Traceback (most recent call last)", 
                        "\u001b[0;32m<ipython-input-59-93148c777243>\u001b[0m in \u001b[0;36m<module>\u001b[0;34m\u001b[0m\n\u001b[0;32m----> 1\u001b[0;31m \u001b[0mprint\u001b[0m\u001b[0;34m(\u001b[0m\u001b[0;34m'There are {} uniques categories.'\u001b[0m\u001b[0;34m.\u001b[0m\u001b[0mformat\u001b[0m\u001b[0;34m(\u001b[0m\u001b[0mlen\u001b[0m\u001b[0;34m(\u001b[0m\u001b[0mSingaporeVenues\u001b[0m\u001b[0;34m[\u001b[0m\u001b[0;34m'Venue Category'\u001b[0m\u001b[0;34m]\u001b[0m\u001b[0;34m.\u001b[0m\u001b[0munique\u001b[0m\u001b[0;34m(\u001b[0m\u001b[0;34m)\u001b[0m\u001b[0;34m)\u001b[0m\u001b[0;34m)\u001b[0m\u001b[0;34m)\u001b[0m\u001b[0;34m\u001b[0m\u001b[0;34m\u001b[0m\u001b[0m\n\u001b[0m", 
                        "\u001b[0;31mNameError\u001b[0m: name 'SingaporeVenues' is not defined"
                    ], 
                    "output_type": "error"
                }
            ], 
            "source": "print('There are {} uniques categories.'.format(len(SingaporeVenues['Venue Category'].unique())))"
        }, 
        {
            "source": "## 3. Analyze Each Neighborhood", 
            "cell_type": "markdown", 
            "metadata": {}
        }, 
        {
            "execution_count": 60, 
            "cell_type": "code", 
            "metadata": {}, 
            "outputs": [
                {
                    "ename": "NameError", 
                    "evalue": "name 'SingaporeVenues' is not defined", 
                    "traceback": [
                        "\u001b[0;31m---------------------------------------------------------------------------\u001b[0m", 
                        "\u001b[0;31mNameError\u001b[0m                                 Traceback (most recent call last)", 
                        "\u001b[0;32m<ipython-input-60-2ed2b07ed5f9>\u001b[0m in \u001b[0;36m<module>\u001b[0;34m\u001b[0m\n\u001b[1;32m      1\u001b[0m \u001b[0;31m# one hot encoding\u001b[0m\u001b[0;34m\u001b[0m\u001b[0;34m\u001b[0m\u001b[0;34m\u001b[0m\u001b[0m\n\u001b[0;32m----> 2\u001b[0;31m \u001b[0mSingapore_onehot\u001b[0m \u001b[0;34m=\u001b[0m \u001b[0mpd\u001b[0m\u001b[0;34m.\u001b[0m\u001b[0mget_dummies\u001b[0m\u001b[0;34m(\u001b[0m\u001b[0mSingaporeVenues\u001b[0m\u001b[0;34m[\u001b[0m\u001b[0;34m[\u001b[0m\u001b[0;34m'Venue Category'\u001b[0m\u001b[0;34m]\u001b[0m\u001b[0;34m]\u001b[0m\u001b[0;34m,\u001b[0m \u001b[0mprefix\u001b[0m\u001b[0;34m=\u001b[0m\u001b[0;34m\"\"\u001b[0m\u001b[0;34m,\u001b[0m \u001b[0mprefix_sep\u001b[0m\u001b[0;34m=\u001b[0m\u001b[0;34m\"\"\u001b[0m\u001b[0;34m)\u001b[0m\u001b[0;34m\u001b[0m\u001b[0;34m\u001b[0m\u001b[0m\n\u001b[0m\u001b[1;32m      3\u001b[0m \u001b[0;34m\u001b[0m\u001b[0m\n\u001b[1;32m      4\u001b[0m \u001b[0;31m# add neighborhood column back to dataframe\u001b[0m\u001b[0;34m\u001b[0m\u001b[0;34m\u001b[0m\u001b[0;34m\u001b[0m\u001b[0m\n\u001b[1;32m      5\u001b[0m \u001b[0mSingapore_onehot\u001b[0m\u001b[0;34m[\u001b[0m\u001b[0;34m'Neighbourhood'\u001b[0m\u001b[0;34m]\u001b[0m \u001b[0;34m=\u001b[0m \u001b[0mSingaporeVenues\u001b[0m\u001b[0;34m[\u001b[0m\u001b[0;34m'Neighbourhood'\u001b[0m\u001b[0;34m]\u001b[0m\u001b[0;34m\u001b[0m\u001b[0;34m\u001b[0m\u001b[0m\n", 
                        "\u001b[0;31mNameError\u001b[0m: name 'SingaporeVenues' is not defined"
                    ], 
                    "output_type": "error"
                }
            ], 
            "source": "# one hot encoding\nSingapore_onehot = pd.get_dummies(SingaporeVenues[['Venue Category']], prefix=\"\", prefix_sep=\"\")\n\n# add neighborhood column back to dataframe\nSingapore_onehot['Neighbourhood'] = SingaporeVenues['Neighbourhood'] \n\n# move neighborhood column to the first column\nfixed_columns = [Singapore_onehot.columns[-1]] + list(Singapore_onehot.columns[:-1])\nSingapore_onehot = Singapore_onehot[fixed_columns]\n\nSingapore_onehot.head()"
        }, 
        {
            "source": "### And let's examine the new dataframe size.", 
            "cell_type": "markdown", 
            "metadata": {}
        }, 
        {
            "execution_count": 61, 
            "cell_type": "code", 
            "metadata": {}, 
            "outputs": [
                {
                    "ename": "NameError", 
                    "evalue": "name 'Singapore_onehot' is not defined", 
                    "traceback": [
                        "\u001b[0;31m---------------------------------------------------------------------------\u001b[0m", 
                        "\u001b[0;31mNameError\u001b[0m                                 Traceback (most recent call last)", 
                        "\u001b[0;32m<ipython-input-61-2e0dfd77eb9d>\u001b[0m in \u001b[0;36m<module>\u001b[0;34m\u001b[0m\n\u001b[0;32m----> 1\u001b[0;31m \u001b[0mSingapore_onehot\u001b[0m\u001b[0;34m.\u001b[0m\u001b[0mshape\u001b[0m\u001b[0;34m\u001b[0m\u001b[0;34m\u001b[0m\u001b[0m\n\u001b[0m", 
                        "\u001b[0;31mNameError\u001b[0m: name 'Singapore_onehot' is not defined"
                    ], 
                    "output_type": "error"
                }
            ], 
            "source": "Singapore_onehot.shape"
        }, 
        {
            "source": "#### Next, let's group rows by neighborhood and by taking the mean of the frequency of occurrence of each category", 
            "cell_type": "markdown", 
            "metadata": {}
        }, 
        {
            "execution_count": 62, 
            "cell_type": "code", 
            "metadata": {}, 
            "outputs": [
                {
                    "ename": "NameError", 
                    "evalue": "name 'Singapore_onehot' is not defined", 
                    "traceback": [
                        "\u001b[0;31m---------------------------------------------------------------------------\u001b[0m", 
                        "\u001b[0;31mNameError\u001b[0m                                 Traceback (most recent call last)", 
                        "\u001b[0;32m<ipython-input-62-a71db2ffdd23>\u001b[0m in \u001b[0;36m<module>\u001b[0;34m\u001b[0m\n\u001b[0;32m----> 1\u001b[0;31m \u001b[0mSingapore_grouped\u001b[0m \u001b[0;34m=\u001b[0m \u001b[0mSingapore_onehot\u001b[0m\u001b[0;34m.\u001b[0m\u001b[0mgroupby\u001b[0m\u001b[0;34m(\u001b[0m\u001b[0;34m'Neighbourhood'\u001b[0m\u001b[0;34m)\u001b[0m\u001b[0;34m.\u001b[0m\u001b[0mmean\u001b[0m\u001b[0;34m(\u001b[0m\u001b[0;34m)\u001b[0m\u001b[0;34m.\u001b[0m\u001b[0mreset_index\u001b[0m\u001b[0;34m(\u001b[0m\u001b[0;34m)\u001b[0m\u001b[0;34m\u001b[0m\u001b[0;34m\u001b[0m\u001b[0m\n\u001b[0m\u001b[1;32m      2\u001b[0m \u001b[0mSingapore_grouped\u001b[0m\u001b[0;34m\u001b[0m\u001b[0;34m\u001b[0m\u001b[0m\n", 
                        "\u001b[0;31mNameError\u001b[0m: name 'Singapore_onehot' is not defined"
                    ], 
                    "output_type": "error"
                }
            ], 
            "source": "Singapore_grouped = Singapore_onehot.groupby('Neighbourhood').mean().reset_index()\nSingapore_grouped"
        }, 
        {
            "execution_count": 32, 
            "cell_type": "code", 
            "metadata": {}, 
            "outputs": [
                {
                    "execution_count": 32, 
                    "metadata": {}, 
                    "data": {
                        "text/plain": "(38, 237)"
                    }, 
                    "output_type": "execute_result"
                }
            ], 
            "source": "# Let's confirm the new size\nSingapore_grouped.shape"
        }, 
        {
            "source": "#### Let's print each neighborhood along with the top 5 most common venues", 
            "cell_type": "markdown", 
            "metadata": {}
        }, 
        {
            "execution_count": 33, 
            "cell_type": "code", 
            "metadata": {}, 
            "outputs": [
                {
                    "output_type": "stream", 
                    "name": "stdout", 
                    "text": "----Adelaide,King,Richmond----\n             venue  freq\n0      Coffee Shop  0.07\n1             Caf\u00e9  0.05\n2              Bar  0.04\n3       Steakhouse  0.04\n4  Thai Restaurant  0.04\n\n\n----Berczy Park----\n                venue  freq\n0         Coffee Shop  0.11\n1        Cocktail Bar  0.05\n2              Bakery  0.05\n3  Seafood Restaurant  0.04\n4      Farmers Market  0.04\n\n\n----Brockton,Exhibition Place,Parkdale Village----\n            venue  freq\n0     Coffee Shop  0.09\n1  Breakfast Spot  0.09\n2            Caf\u00e9  0.09\n3             Gym  0.05\n4         Stadium  0.05\n\n\n----Business Reply Mail Processing Centre 969 Eastern----\n                venue  freq\n0          Smoke Shop  0.07\n1          Restaurant  0.07\n2  Light Rail Station  0.07\n3              Garden  0.07\n4             Brewery  0.07\n\n\n----CN Tower,Bathurst Quay,Island airport,Harbourfront West,King and Spadina,Railway Lands,South Niagara----\n                venue  freq\n0     Airport Service  0.19\n1      Airport Lounge  0.12\n2    Airport Terminal  0.12\n3            Boutique  0.06\n4  Airport Food Court  0.06\n\n\n----Cabbagetown,St. James Town----\n                venue  freq\n0         Coffee Shop  0.07\n1  Italian Restaurant  0.05\n2         Pizza Place  0.05\n3                 Pub  0.05\n4                Park  0.05\n\n\n----Central Bay Street----\n                venue  freq\n0         Coffee Shop  0.14\n1                Caf\u00e9  0.06\n2      Ice Cream Shop  0.05\n3  Italian Restaurant  0.05\n4        Burger Joint  0.03\n\n\n----Chinatown,Grange Park,Kensington Market----\n                           venue  freq\n0                           Caf\u00e9  0.08\n1  Vegetarian / Vegan Restaurant  0.06\n2             Chinese Restaurant  0.05\n3                         Bakery  0.04\n4             Mexican Restaurant  0.04\n\n\n----Christie----\n           venue  freq\n0  Grocery Store  0.20\n1           Caf\u00e9  0.20\n2           Park  0.13\n3      Nightclub  0.07\n4          Diner  0.07\n\n\n----Church and Wellesley----\n                 venue  freq\n0          Coffee Shop  0.07\n1  Japanese Restaurant  0.06\n2              Gay Bar  0.05\n3     Sushi Restaurant  0.05\n4           Restaurant  0.04\n\n\n----Commerce Court,Victoria Hotel----\n                 venue  freq\n0          Coffee Shop  0.09\n1                 Caf\u00e9  0.06\n2                Hotel  0.06\n3           Restaurant  0.04\n4  American Restaurant  0.04\n\n\n----Davisville----\n              venue  freq\n0      Dessert Shop  0.08\n1       Pizza Place  0.08\n2    Sandwich Place  0.08\n3  Sushi Restaurant  0.06\n4       Coffee Shop  0.06\n\n\n----Davisville North----\n            venue  freq\n0  Breakfast Spot  0.12\n1            Park  0.12\n2  Sandwich Place  0.12\n3  Clothing Store  0.12\n4             Gym  0.12\n\n\n----Deer Park,Forest Hill SE,Rathnelly,South Hill,Summerhill West----\n         venue  freq\n0          Pub  0.13\n1  Coffee Shop  0.13\n2   Sports Bar  0.07\n3   Bagel Shop  0.07\n4   Restaurant  0.07\n\n\n----Design Exchange,Toronto Dominion Centre----\n                venue  freq\n0         Coffee Shop  0.14\n1                Caf\u00e9  0.08\n2               Hotel  0.06\n3          Restaurant  0.04\n4  Italian Restaurant  0.04\n\n\n----Dovercourt Village,Dufferin----\n         venue  freq\n0       Bakery  0.10\n1     Pharmacy  0.10\n2  Supermarket  0.10\n3         Bank  0.05\n4      Brewery  0.05\n\n\n----First Canadian Place,Underground city----\n         venue  freq\n0  Coffee Shop  0.09\n1         Caf\u00e9  0.07\n2   Restaurant  0.04\n3        Hotel  0.04\n4   Steakhouse  0.04\n\n\n----Forest Hill North,Forest Hill West----\n               venue  freq\n0      Jewelry Store  0.25\n1   Sushi Restaurant  0.25\n2           Bus Line  0.25\n3              Trail  0.25\n4  Afghan Restaurant  0.00\n\n\n----Harbord,University of Toronto----\n                 venue  freq\n0                 Caf\u00e9  0.09\n1           Restaurant  0.06\n2               Bakery  0.06\n3            Bookstore  0.06\n4  Japanese Restaurant  0.06\n\n\n----Harbourfront East,Toronto Islands,Union Station----\n                venue  freq\n0         Coffee Shop  0.11\n1               Hotel  0.05\n2            Aquarium  0.05\n3  Italian Restaurant  0.04\n4                Caf\u00e9  0.04\n\n\n----Harbourfront,Regent Park----\n         venue  freq\n0  Coffee Shop  0.18\n1         Caf\u00e9  0.06\n2         Park  0.06\n3          Pub  0.06\n4       Bakery  0.06\n\n\n----High Park,The Junction South----\n                 venue  freq\n0                  Bar  0.09\n1   Mexican Restaurant  0.09\n2                 Caf\u00e9  0.09\n3  Fried Chicken Joint  0.05\n4  Arts & Crafts Store  0.05\n\n\n----Lawrence Park----\n               venue  freq\n0               Park  0.25\n1        Swim School  0.25\n2           Bus Line  0.25\n3               Lake  0.25\n4  Afghan Restaurant  0.00\n\n\n----Little Portugal,Trinity----\n              venue  freq\n0               Bar  0.11\n1       Coffee Shop  0.06\n2  Asian Restaurant  0.05\n3              Caf\u00e9  0.03\n4            Bakery  0.03\n\n\n----Moore Park,Summerhill East----\n         venue  freq\n0   Playground  0.25\n1   Restaurant  0.25\n2         Park  0.25\n3        Trail  0.25\n4  Music Venue  0.00\n\n\n----North Toronto West----\n                 venue  freq\n0       Clothing Store  0.16\n1  Sporting Goods Shop  0.11\n2          Coffee Shop  0.11\n3          Yoga Studio  0.05\n4  Rental Car Location  0.05\n\n\n----Parkdale,Roncesvalles----\n              venue  freq\n0    Breakfast Spot  0.13\n1         Gift Shop  0.13\n2           Dog Run  0.07\n3  Cuban Restaurant  0.07\n4         Bookstore  0.07\n\n\n----Rosedale----\n        venue  freq\n0        Park   0.4\n1  Playground   0.2\n2    Building   0.2\n3       Trail   0.2\n4   Nightclub   0.0\n\n\n----Roselawn----\n                       venue  freq\n0             Ice Cream Shop   0.5\n1                     Garden   0.5\n2          Afghan Restaurant   0.0\n3                  Nightclub   0.0\n4  Middle Eastern Restaurant   0.0\n\n\n----Runnymede,Swansea----\n                venue  freq\n0                Caf\u00e9  0.08\n1         Pizza Place  0.08\n2         Coffee Shop  0.08\n3  Italian Restaurant  0.05\n4    Sushi Restaurant  0.05\n\n\n----Ryerson,Garden District----\n                       venue  freq\n0                Coffee Shop  0.09\n1             Clothing Store  0.06\n2             Cosmetics Shop  0.04\n3  Middle Eastern Restaurant  0.03\n4       Fast Food Restaurant  0.03\n\n\n----St. James Town----\n                venue  freq\n0         Coffee Shop  0.07\n1          Restaurant  0.05\n2                Caf\u00e9  0.05\n3               Hotel  0.05\n4  Italian Restaurant  0.04\n\n\n----Stn A PO Boxes 25 The Esplanade----\n                  venue  freq\n0           Coffee Shop  0.09\n1                  Caf\u00e9  0.04\n2            Restaurant  0.04\n3  Fast Food Restaurant  0.03\n4              Beer Bar  0.03\n\n\n----Studio District----\n                 venue  freq\n0                 Caf\u00e9  0.10\n1          Coffee Shop  0.07\n2               Bakery  0.05\n3   Italian Restaurant  0.05\n4  American Restaurant  0.05\n\n\n----The Annex,North Midtown,Yorkville----\n            venue  freq\n0     Coffee Shop  0.13\n1  Sandwich Place  0.13\n2            Caf\u00e9  0.13\n3     Pizza Place  0.09\n4  History Museum  0.04\n\n\n----The Beaches----\n               venue  freq\n0        Coffee Shop  0.17\n1       Neighborhood  0.17\n2  Health Food Store  0.17\n3                Pub  0.17\n4               Park  0.17\n\n\n----The Beaches West,India Bazaar----\n               venue  freq\n0     Sandwich Place  0.10\n1  Food & Drink Shop  0.05\n2       Burger Joint  0.05\n3      Burrito Place  0.05\n4        Pizza Place  0.05\n\n\n----The Danforth West,Riverdale----\n                    venue  freq\n0        Greek Restaurant  0.21\n1             Coffee Shop  0.10\n2          Ice Cream Shop  0.07\n3      Italian Restaurant  0.07\n4  Furniture / Home Store  0.05\n\n\n"
                }
            ], 
            "source": "num_top_venues = 5\n\nfor hood in Singapore_grouped['Neighbourhood']:\n    print(\"----\"+hood+\"----\")\n    temp = Singapore_grouped[Singapore_grouped['Neighbourhood'] == hood].T.reset_index()\n    temp.columns = ['venue','freq']\n    temp = temp.iloc[1:]\n    temp['freq'] = temp['freq'].astype(float)\n    temp = temp.round({'freq': 2})\n    print(temp.sort_values('freq', ascending=False).reset_index(drop=True).head(num_top_venues))\n    print('\\n')"
        }, 
        {
            "source": "#### Let's put that into a *pandas* dataframe", 
            "cell_type": "markdown", 
            "metadata": {}
        }, 
        {
            "execution_count": 34, 
            "cell_type": "code", 
            "metadata": {}, 
            "outputs": [], 
            "source": "# First, let's write a function to sort the venues in descending order.\ndef return_most_common_venues(row, num_top_venues):\n    row_categories = row.iloc[1:]\n    row_categories_sorted = row_categories.sort_values(ascending=False)\n    \n    return row_categories_sorted.index.values[0:num_top_venues]"
        }, 
        {
            "source": "#### Now let's create the new dataframe and display the top 10 venues for each neighborhood.", 
            "cell_type": "markdown", 
            "metadata": {}
        }, 
        {
            "execution_count": 35, 
            "cell_type": "code", 
            "metadata": {}, 
            "outputs": [
                {
                    "execution_count": 35, 
                    "metadata": {}, 
                    "data": {
                        "text/html": "<div>\n<style scoped>\n    .dataframe tbody tr th:only-of-type {\n        vertical-align: middle;\n    }\n\n    .dataframe tbody tr th {\n        vertical-align: top;\n    }\n\n    .dataframe thead th {\n        text-align: right;\n    }\n</style>\n<table border=\"1\" class=\"dataframe\">\n  <thead>\n    <tr style=\"text-align: right;\">\n      <th></th>\n      <th>Neighbourhood</th>\n      <th>1st Most Common Venue</th>\n      <th>2nd Most Common Venue</th>\n      <th>3rd Most Common Venue</th>\n      <th>4th Most Common Venue</th>\n      <th>5th Most Common Venue</th>\n      <th>6th Most Common Venue</th>\n      <th>7th Most Common Venue</th>\n      <th>8th Most Common Venue</th>\n      <th>9th Most Common Venue</th>\n      <th>10th Most Common Venue</th>\n    </tr>\n  </thead>\n  <tbody>\n    <tr>\n      <th>0</th>\n      <td>Adelaide,King,Richmond</td>\n      <td>Coffee Shop</td>\n      <td>Caf\u00e9</td>\n      <td>Steakhouse</td>\n      <td>Thai Restaurant</td>\n      <td>Bar</td>\n      <td>American Restaurant</td>\n      <td>Gym</td>\n      <td>Breakfast Spot</td>\n      <td>Asian Restaurant</td>\n      <td>Burger Joint</td>\n    </tr>\n    <tr>\n      <th>1</th>\n      <td>Berczy Park</td>\n      <td>Coffee Shop</td>\n      <td>Cocktail Bar</td>\n      <td>Bakery</td>\n      <td>Steakhouse</td>\n      <td>Cheese Shop</td>\n      <td>Farmers Market</td>\n      <td>Caf\u00e9</td>\n      <td>Seafood Restaurant</td>\n      <td>Beer Bar</td>\n      <td>Restaurant</td>\n    </tr>\n    <tr>\n      <th>2</th>\n      <td>Brockton,Exhibition Place,Parkdale Village</td>\n      <td>Breakfast Spot</td>\n      <td>Caf\u00e9</td>\n      <td>Coffee Shop</td>\n      <td>Climbing Gym</td>\n      <td>Falafel Restaurant</td>\n      <td>Convenience Store</td>\n      <td>Burrito Place</td>\n      <td>Stadium</td>\n      <td>Caribbean Restaurant</td>\n      <td>Bar</td>\n    </tr>\n    <tr>\n      <th>3</th>\n      <td>Business Reply Mail Processing Centre 969 Eastern</td>\n      <td>Pizza Place</td>\n      <td>Auto Workshop</td>\n      <td>Garden Center</td>\n      <td>Garden</td>\n      <td>Light Rail Station</td>\n      <td>Fast Food Restaurant</td>\n      <td>Farmers Market</td>\n      <td>Park</td>\n      <td>Comic Shop</td>\n      <td>Restaurant</td>\n    </tr>\n    <tr>\n      <th>4</th>\n      <td>CN Tower,Bathurst Quay,Island airport,Harbourf...</td>\n      <td>Airport Service</td>\n      <td>Airport Lounge</td>\n      <td>Airport Terminal</td>\n      <td>Boutique</td>\n      <td>Coffee Shop</td>\n      <td>Airport</td>\n      <td>Airport Food Court</td>\n      <td>Airport Gate</td>\n      <td>Harbor / Marina</td>\n      <td>Bar</td>\n    </tr>\n  </tbody>\n</table>\n</div>", 
                        "text/plain": "                                       Neighbourhood 1st Most Common Venue  \\\n0                             Adelaide,King,Richmond           Coffee Shop   \n1                                        Berczy Park           Coffee Shop   \n2         Brockton,Exhibition Place,Parkdale Village        Breakfast Spot   \n3  Business Reply Mail Processing Centre 969 Eastern           Pizza Place   \n4  CN Tower,Bathurst Quay,Island airport,Harbourf...       Airport Service   \n\n  2nd Most Common Venue 3rd Most Common Venue 4th Most Common Venue  \\\n0                  Caf\u00e9            Steakhouse       Thai Restaurant   \n1          Cocktail Bar                Bakery            Steakhouse   \n2                  Caf\u00e9           Coffee Shop          Climbing Gym   \n3         Auto Workshop         Garden Center                Garden   \n4        Airport Lounge      Airport Terminal              Boutique   \n\n  5th Most Common Venue 6th Most Common Venue 7th Most Common Venue  \\\n0                   Bar   American Restaurant                   Gym   \n1           Cheese Shop        Farmers Market                  Caf\u00e9   \n2    Falafel Restaurant     Convenience Store         Burrito Place   \n3    Light Rail Station  Fast Food Restaurant        Farmers Market   \n4           Coffee Shop               Airport    Airport Food Court   \n\n  8th Most Common Venue 9th Most Common Venue 10th Most Common Venue  \n0        Breakfast Spot      Asian Restaurant           Burger Joint  \n1    Seafood Restaurant              Beer Bar             Restaurant  \n2               Stadium  Caribbean Restaurant                    Bar  \n3                  Park            Comic Shop             Restaurant  \n4          Airport Gate       Harbor / Marina                    Bar  "
                    }, 
                    "output_type": "execute_result"
                }
            ], 
            "source": "num_top_venues = 10\n\nindicators = ['st', 'nd', 'rd']\n\n# create columns according to number of top venues\ncolumns = ['Neighbourhood']\nfor ind in np.arange(num_top_venues):\n    try:\n        columns.append('{}{} Most Common Venue'.format(ind+1, indicators[ind]))\n    except:\n        columns.append('{}th Most Common Venue'.format(ind+1))\n\n# create a new dataframe\nneighbourhoods_venues_sorted = pd.DataFrame(columns=columns)\nneighbourhoods_venues_sorted['Neighbourhood'] = Singapore_grouped['Neighbourhood']\n\nfor ind in np.arange(Singapore_grouped.shape[0]):\n    neighbourhoods_venues_sorted.iloc[ind, 1:] = return_most_common_venues(Singapore_grouped.iloc[ind, :], num_top_venues)\n\nneighbourhoods_venues_sorted.head()"
        }, 
        {
            "execution_count": null, 
            "cell_type": "code", 
            "metadata": {}, 
            "outputs": [], 
            "source": ""
        }
    ], 
    "metadata": {
        "kernelspec": {
            "display_name": "Python 3.6", 
            "name": "python3", 
            "language": "python"
        }, 
        "language_info": {
            "mimetype": "text/x-python", 
            "nbconvert_exporter": "python", 
            "version": "3.6.8", 
            "name": "python", 
            "file_extension": ".py", 
            "pygments_lexer": "ipython3", 
            "codemirror_mode": {
                "version": 3, 
                "name": "ipython"
            }
        }
    }, 
    "nbformat": 4
}